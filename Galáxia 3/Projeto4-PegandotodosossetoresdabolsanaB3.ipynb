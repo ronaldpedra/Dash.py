{
 "cells": [
  {
   "cell_type": "markdown",
   "id": "ced0ec61",
   "metadata": {},
   "source": [
    "# Projeto 4 - Pegando todos os setores da bolsa no site da B3"
   ]
  },
  {
   "cell_type": "code",
   "execution_count": 1,
   "id": "e51a3b9d",
   "metadata": {},
   "outputs": [],
   "source": [
    "import pandas as pd\n",
    "from selenium import webdriver\n",
    "from selenium.webdriver.chrome.service import Service\n",
    "from webdriver_manager.chrome import ChromeDriverManager\n",
    "from selenium.webdriver.chrome.options import Options\n",
    "from selenium.webdriver.common.by import By\n",
    "from selenium.webdriver.support import expected_conditions as EC\n",
    "from selenium.webdriver.support.ui import WebDriverWait\n",
    "from datetime import date\n",
    "import zipfile\n",
    "import os"
   ]
  },
  {
   "cell_type": "code",
   "execution_count": 2,
   "id": "1551a868",
   "metadata": {},
   "outputs": [],
   "source": [
    "driver = webdriver.Chrome(service=Service(ChromeDriverManager().install()))"
   ]
  },
  {
   "cell_type": "code",
   "execution_count": 3,
   "id": "f42dfd8d",
   "metadata": {},
   "outputs": [],
   "source": [
    "url = 'https://www.b3.com.br/pt_br/produtos-e-servicos/negociacao/renda-variavel/empresas-listadas.htm'"
   ]
  },
  {
   "cell_type": "code",
   "execution_count": 4,
   "id": "a37ae005",
   "metadata": {},
   "outputs": [],
   "source": [
    "driver.get(url)"
   ]
  },
  {
   "cell_type": "code",
   "execution_count": 5,
   "id": "b67a6d9c",
   "metadata": {},
   "outputs": [],
   "source": [
    "local_botao_expandir = '/html/body/app-root/app-companies-home/div/div/div/div/div[2]/div[1]/div/div/a/i'\n"
   ]
  },
  {
   "cell_type": "code",
   "execution_count": 6,
   "id": "8b24857b",
   "metadata": {},
   "outputs": [
    {
     "ename": "NoSuchElementException",
     "evalue": "Message: no such element: Unable to locate element: {\"method\":\"xpath\",\"selector\":\"/html/body/app-root/app-companies-home/div/div/div/div/div[2]/div[1]/div/div/a/i\"}\n  (Session info: chrome=120.0.6099.227); For documentation on this error, please visit: https://www.selenium.dev/documentation/webdriver/troubleshooting/errors#no-such-element-exception\nStacktrace:\n\tGetHandleVerifier [0x00DF6EE3+174339]\n\t(No symbol) [0x00D20A51]\n\t(No symbol) [0x00A36FF6]\n\t(No symbol) [0x00A69876]\n\t(No symbol) [0x00A69C2C]\n\t(No symbol) [0x00A9BD42]\n\t(No symbol) [0x00A87054]\n\t(No symbol) [0x00A9A104]\n\t(No symbol) [0x00A86DA6]\n\t(No symbol) [0x00A61034]\n\t(No symbol) [0x00A61F8D]\n\tGetHandleVerifier [0x00E94B1C+820540]\n\tsqlite3_dbdata_init [0x00F553EE+653550]\n\tsqlite3_dbdata_init [0x00F54E09+652041]\n\tsqlite3_dbdata_init [0x00F497CC+605388]\n\tsqlite3_dbdata_init [0x00F55D9B+656027]\n\t(No symbol) [0x00D2FE6C]\n\t(No symbol) [0x00D283B8]\n\t(No symbol) [0x00D284DD]\n\t(No symbol) [0x00D15818]\n\tBaseThreadInitThunk [0x74E07BA9+25]\n\tRtlInitializeExceptionChain [0x7705BD2B+107]\n\tRtlClearBits [0x7705BCAF+191]\n",
     "output_type": "error",
     "traceback": [
      "\u001b[1;31m---------------------------------------------------------------------------\u001b[0m",
      "\u001b[1;31mNoSuchElementException\u001b[0m                    Traceback (most recent call last)",
      "\u001b[1;32m~\\AppData\\Local\\Temp\\ipykernel_3444\\1649247366.py\u001b[0m in \u001b[0;36m<module>\u001b[1;34m\u001b[0m\n\u001b[1;32m----> 1\u001b[1;33m \u001b[0mbotao_expandir\u001b[0m \u001b[1;33m=\u001b[0m \u001b[0mdriver\u001b[0m\u001b[1;33m.\u001b[0m\u001b[0mfind_element\u001b[0m\u001b[1;33m(\u001b[0m\u001b[1;34m'xpath'\u001b[0m\u001b[1;33m,\u001b[0m \u001b[0mlocal_botao_expandir\u001b[0m\u001b[1;33m)\u001b[0m\u001b[1;33m\u001b[0m\u001b[1;33m\u001b[0m\u001b[0m\n\u001b[0m",
      "\u001b[1;32m~\\anaconda3\\lib\\site-packages\\selenium\\webdriver\\remote\\webdriver.py\u001b[0m in \u001b[0;36mfind_element\u001b[1;34m(self, by, value)\u001b[0m\n\u001b[0;32m    739\u001b[0m             \u001b[0mvalue\u001b[0m \u001b[1;33m=\u001b[0m \u001b[1;34mf'[name=\"{value}\"]'\u001b[0m\u001b[1;33m\u001b[0m\u001b[1;33m\u001b[0m\u001b[0m\n\u001b[0;32m    740\u001b[0m \u001b[1;33m\u001b[0m\u001b[0m\n\u001b[1;32m--> 741\u001b[1;33m         \u001b[1;32mreturn\u001b[0m \u001b[0mself\u001b[0m\u001b[1;33m.\u001b[0m\u001b[0mexecute\u001b[0m\u001b[1;33m(\u001b[0m\u001b[0mCommand\u001b[0m\u001b[1;33m.\u001b[0m\u001b[0mFIND_ELEMENT\u001b[0m\u001b[1;33m,\u001b[0m \u001b[1;33m{\u001b[0m\u001b[1;34m\"using\"\u001b[0m\u001b[1;33m:\u001b[0m \u001b[0mby\u001b[0m\u001b[1;33m,\u001b[0m \u001b[1;34m\"value\"\u001b[0m\u001b[1;33m:\u001b[0m \u001b[0mvalue\u001b[0m\u001b[1;33m}\u001b[0m\u001b[1;33m)\u001b[0m\u001b[1;33m[\u001b[0m\u001b[1;34m\"value\"\u001b[0m\u001b[1;33m]\u001b[0m\u001b[1;33m\u001b[0m\u001b[1;33m\u001b[0m\u001b[0m\n\u001b[0m\u001b[0;32m    742\u001b[0m \u001b[1;33m\u001b[0m\u001b[0m\n\u001b[0;32m    743\u001b[0m     \u001b[1;32mdef\u001b[0m \u001b[0mfind_elements\u001b[0m\u001b[1;33m(\u001b[0m\u001b[0mself\u001b[0m\u001b[1;33m,\u001b[0m \u001b[0mby\u001b[0m\u001b[1;33m=\u001b[0m\u001b[0mBy\u001b[0m\u001b[1;33m.\u001b[0m\u001b[0mID\u001b[0m\u001b[1;33m,\u001b[0m \u001b[0mvalue\u001b[0m\u001b[1;33m:\u001b[0m \u001b[0mOptional\u001b[0m\u001b[1;33m[\u001b[0m\u001b[0mstr\u001b[0m\u001b[1;33m]\u001b[0m \u001b[1;33m=\u001b[0m \u001b[1;32mNone\u001b[0m\u001b[1;33m)\u001b[0m \u001b[1;33m->\u001b[0m \u001b[0mList\u001b[0m\u001b[1;33m[\u001b[0m\u001b[0mWebElement\u001b[0m\u001b[1;33m]\u001b[0m\u001b[1;33m:\u001b[0m\u001b[1;33m\u001b[0m\u001b[1;33m\u001b[0m\u001b[0m\n",
      "\u001b[1;32m~\\anaconda3\\lib\\site-packages\\selenium\\webdriver\\remote\\webdriver.py\u001b[0m in \u001b[0;36mexecute\u001b[1;34m(self, driver_command, params)\u001b[0m\n\u001b[0;32m    345\u001b[0m         \u001b[0mresponse\u001b[0m \u001b[1;33m=\u001b[0m \u001b[0mself\u001b[0m\u001b[1;33m.\u001b[0m\u001b[0mcommand_executor\u001b[0m\u001b[1;33m.\u001b[0m\u001b[0mexecute\u001b[0m\u001b[1;33m(\u001b[0m\u001b[0mdriver_command\u001b[0m\u001b[1;33m,\u001b[0m \u001b[0mparams\u001b[0m\u001b[1;33m)\u001b[0m\u001b[1;33m\u001b[0m\u001b[1;33m\u001b[0m\u001b[0m\n\u001b[0;32m    346\u001b[0m         \u001b[1;32mif\u001b[0m \u001b[0mresponse\u001b[0m\u001b[1;33m:\u001b[0m\u001b[1;33m\u001b[0m\u001b[1;33m\u001b[0m\u001b[0m\n\u001b[1;32m--> 347\u001b[1;33m             \u001b[0mself\u001b[0m\u001b[1;33m.\u001b[0m\u001b[0merror_handler\u001b[0m\u001b[1;33m.\u001b[0m\u001b[0mcheck_response\u001b[0m\u001b[1;33m(\u001b[0m\u001b[0mresponse\u001b[0m\u001b[1;33m)\u001b[0m\u001b[1;33m\u001b[0m\u001b[1;33m\u001b[0m\u001b[0m\n\u001b[0m\u001b[0;32m    348\u001b[0m             \u001b[0mresponse\u001b[0m\u001b[1;33m[\u001b[0m\u001b[1;34m\"value\"\u001b[0m\u001b[1;33m]\u001b[0m \u001b[1;33m=\u001b[0m \u001b[0mself\u001b[0m\u001b[1;33m.\u001b[0m\u001b[0m_unwrap_value\u001b[0m\u001b[1;33m(\u001b[0m\u001b[0mresponse\u001b[0m\u001b[1;33m.\u001b[0m\u001b[0mget\u001b[0m\u001b[1;33m(\u001b[0m\u001b[1;34m\"value\"\u001b[0m\u001b[1;33m,\u001b[0m \u001b[1;32mNone\u001b[0m\u001b[1;33m)\u001b[0m\u001b[1;33m)\u001b[0m\u001b[1;33m\u001b[0m\u001b[1;33m\u001b[0m\u001b[0m\n\u001b[0;32m    349\u001b[0m             \u001b[1;32mreturn\u001b[0m \u001b[0mresponse\u001b[0m\u001b[1;33m\u001b[0m\u001b[1;33m\u001b[0m\u001b[0m\n",
      "\u001b[1;32m~\\anaconda3\\lib\\site-packages\\selenium\\webdriver\\remote\\errorhandler.py\u001b[0m in \u001b[0;36mcheck_response\u001b[1;34m(self, response)\u001b[0m\n\u001b[0;32m    227\u001b[0m                 \u001b[0malert_text\u001b[0m \u001b[1;33m=\u001b[0m \u001b[0mvalue\u001b[0m\u001b[1;33m[\u001b[0m\u001b[1;34m\"alert\"\u001b[0m\u001b[1;33m]\u001b[0m\u001b[1;33m.\u001b[0m\u001b[0mget\u001b[0m\u001b[1;33m(\u001b[0m\u001b[1;34m\"text\"\u001b[0m\u001b[1;33m)\u001b[0m\u001b[1;33m\u001b[0m\u001b[1;33m\u001b[0m\u001b[0m\n\u001b[0;32m    228\u001b[0m             \u001b[1;32mraise\u001b[0m \u001b[0mexception_class\u001b[0m\u001b[1;33m(\u001b[0m\u001b[0mmessage\u001b[0m\u001b[1;33m,\u001b[0m \u001b[0mscreen\u001b[0m\u001b[1;33m,\u001b[0m \u001b[0mstacktrace\u001b[0m\u001b[1;33m,\u001b[0m \u001b[0malert_text\u001b[0m\u001b[1;33m)\u001b[0m  \u001b[1;31m# type: ignore[call-arg]  # mypy is not smart enough here\u001b[0m\u001b[1;33m\u001b[0m\u001b[1;33m\u001b[0m\u001b[0m\n\u001b[1;32m--> 229\u001b[1;33m         \u001b[1;32mraise\u001b[0m \u001b[0mexception_class\u001b[0m\u001b[1;33m(\u001b[0m\u001b[0mmessage\u001b[0m\u001b[1;33m,\u001b[0m \u001b[0mscreen\u001b[0m\u001b[1;33m,\u001b[0m \u001b[0mstacktrace\u001b[0m\u001b[1;33m)\u001b[0m\u001b[1;33m\u001b[0m\u001b[1;33m\u001b[0m\u001b[0m\n\u001b[0m",
      "\u001b[1;31mNoSuchElementException\u001b[0m: Message: no such element: Unable to locate element: {\"method\":\"xpath\",\"selector\":\"/html/body/app-root/app-companies-home/div/div/div/div/div[2]/div[1]/div/div/a/i\"}\n  (Session info: chrome=120.0.6099.227); For documentation on this error, please visit: https://www.selenium.dev/documentation/webdriver/troubleshooting/errors#no-such-element-exception\nStacktrace:\n\tGetHandleVerifier [0x00DF6EE3+174339]\n\t(No symbol) [0x00D20A51]\n\t(No symbol) [0x00A36FF6]\n\t(No symbol) [0x00A69876]\n\t(No symbol) [0x00A69C2C]\n\t(No symbol) [0x00A9BD42]\n\t(No symbol) [0x00A87054]\n\t(No symbol) [0x00A9A104]\n\t(No symbol) [0x00A86DA6]\n\t(No symbol) [0x00A61034]\n\t(No symbol) [0x00A61F8D]\n\tGetHandleVerifier [0x00E94B1C+820540]\n\tsqlite3_dbdata_init [0x00F553EE+653550]\n\tsqlite3_dbdata_init [0x00F54E09+652041]\n\tsqlite3_dbdata_init [0x00F497CC+605388]\n\tsqlite3_dbdata_init [0x00F55D9B+656027]\n\t(No symbol) [0x00D2FE6C]\n\t(No symbol) [0x00D283B8]\n\t(No symbol) [0x00D284DD]\n\t(No symbol) [0x00D15818]\n\tBaseThreadInitThunk [0x74E07BA9+25]\n\tRtlInitializeExceptionChain [0x7705BD2B+107]\n\tRtlClearBits [0x7705BCAF+191]\n"
     ]
    }
   ],
   "source": [
    "botao_expandir = driver.find_element('xpath', local_botao_expandir)"
   ]
  },
  {
   "cell_type": "markdown",
   "id": "29a70fcf",
   "metadata": {},
   "source": [
    "### O site da B3 é só uma casca da antiga BVMF. \n",
    "\n",
    "Nesses casos, precisamos trocar pro iframe que importa. "
   ]
  },
  {
   "cell_type": "code",
   "execution_count": 7,
   "id": "7dc3cf92",
   "metadata": {},
   "outputs": [
    {
     "data": {
      "text/plain": [
       "True"
      ]
     },
     "execution_count": 7,
     "metadata": {},
     "output_type": "execute_result"
    }
   ],
   "source": [
    "WebDriverWait(driver, 10).until(\n",
    "        EC.frame_to_be_available_and_switch_to_it((By.ID, \"bvmf_iframe\")))"
   ]
  },
  {
   "cell_type": "code",
   "execution_count": 8,
   "id": "58265bf5",
   "metadata": {},
   "outputs": [],
   "source": [
    "botao_expandir = driver.find_element('xpath', local_botao_expandir)"
   ]
  },
  {
   "cell_type": "code",
   "execution_count": 9,
   "id": "5042c9a5",
   "metadata": {},
   "outputs": [],
   "source": [
    "#botao_expandir.click()\n",
    "driver.execute_script(\"arguments[0].click();\", botao_expandir)"
   ]
  },
  {
   "cell_type": "code",
   "execution_count": 10,
   "id": "43e5bffe",
   "metadata": {},
   "outputs": [],
   "source": [
    "planilha = driver.find_element('xpath', '/html/body/app-root/app-companies-home/div/div/div/div/div[2]/div[2]/div/app-companies-home-filter-classification/form/div[2]/div[3]/div[2]/p/a')\n",
    "\n",
    "driver.execute_script(\"arguments[0].click();\", planilha)\n",
    "\n",
    "#time.sleep(5) #tem que esperar baixar a planilha "
   ]
  },
  {
   "cell_type": "code",
   "execution_count": 11,
   "id": "3e744c76",
   "metadata": {},
   "outputs": [],
   "source": [
    "driver.quit()"
   ]
  },
  {
   "cell_type": "markdown",
   "id": "835325e8",
   "metadata": {},
   "source": [
    "### Agora vamos extrair o ZIP"
   ]
  },
  {
   "cell_type": "code",
   "execution_count": 20,
   "id": "a0202b3d",
   "metadata": {},
   "outputs": [],
   "source": [
    "caminho_downloads = r'C:\\Users\\ronal\\Downloads'"
   ]
  },
  {
   "cell_type": "code",
   "execution_count": 21,
   "id": "596fc5c9",
   "metadata": {},
   "outputs": [],
   "source": [
    "arquivo_zip = zipfile.ZipFile(caminho_downloads + r\"\\ClassifSetorial.zip\")\n",
    "\n",
    "for planilha in arquivo_zip.namelist():\n",
    "\n",
    "    setores = pd.read_excel(arquivo_zip.open(planilha), skiprows=6)"
   ]
  },
  {
   "cell_type": "code",
   "execution_count": 22,
   "id": "34d50527",
   "metadata": {},
   "outputs": [],
   "source": [
    "arquivo_zip.close()"
   ]
  },
  {
   "cell_type": "code",
   "execution_count": 15,
   "id": "7c029000",
   "metadata": {},
   "outputs": [],
   "source": [
    "os.remove(caminho_downloads + r\"\\ClassifSetorial.zip\")"
   ]
  },
  {
   "cell_type": "code",
   "execution_count": 23,
   "id": "875b9b0e",
   "metadata": {
    "scrolled": true
   },
   "outputs": [
    {
     "data": {
      "text/html": [
       "<div>\n",
       "<style scoped>\n",
       "    .dataframe tbody tr th:only-of-type {\n",
       "        vertical-align: middle;\n",
       "    }\n",
       "\n",
       "    .dataframe tbody tr th {\n",
       "        vertical-align: top;\n",
       "    }\n",
       "\n",
       "    .dataframe thead th {\n",
       "        text-align: right;\n",
       "    }\n",
       "</style>\n",
       "<table border=\"1\" class=\"dataframe\">\n",
       "  <thead>\n",
       "    <tr style=\"text-align: right;\">\n",
       "      <th></th>\n",
       "      <th>SETOR ECONÔMICO</th>\n",
       "      <th>SUBSETOR</th>\n",
       "      <th>SEGMENTO</th>\n",
       "      <th>LISTAGEM</th>\n",
       "      <th>Unnamed: 4</th>\n",
       "    </tr>\n",
       "  </thead>\n",
       "  <tbody>\n",
       "    <tr>\n",
       "      <th>0</th>\n",
       "      <td>NaN</td>\n",
       "      <td>NaN</td>\n",
       "      <td>NaN</td>\n",
       "      <td>CÓDIGO</td>\n",
       "      <td>SEGMENTO</td>\n",
       "    </tr>\n",
       "    <tr>\n",
       "      <th>1</th>\n",
       "      <td>Petróleo, Gás e Biocombustíveis</td>\n",
       "      <td>Petróleo, Gás e Biocombustíveis</td>\n",
       "      <td>Exploração, Refino e Distribuição</td>\n",
       "      <td>NaN</td>\n",
       "      <td>NaN</td>\n",
       "    </tr>\n",
       "    <tr>\n",
       "      <th>2</th>\n",
       "      <td>NaN</td>\n",
       "      <td>NaN</td>\n",
       "      <td>3R PETROLEUM</td>\n",
       "      <td>RRRP</td>\n",
       "      <td>NM</td>\n",
       "    </tr>\n",
       "    <tr>\n",
       "      <th>3</th>\n",
       "      <td>NaN</td>\n",
       "      <td>NaN</td>\n",
       "      <td>COSAN</td>\n",
       "      <td>CSAN</td>\n",
       "      <td>NM</td>\n",
       "    </tr>\n",
       "    <tr>\n",
       "      <th>4</th>\n",
       "      <td>NaN</td>\n",
       "      <td>NaN</td>\n",
       "      <td>ENAUTA PART</td>\n",
       "      <td>ENAT</td>\n",
       "      <td>NM</td>\n",
       "    </tr>\n",
       "    <tr>\n",
       "      <th>...</th>\n",
       "      <td>...</td>\n",
       "      <td>...</td>\n",
       "      <td>...</td>\n",
       "      <td>...</td>\n",
       "      <td>...</td>\n",
       "    </tr>\n",
       "    <tr>\n",
       "      <th>569</th>\n",
       "      <td>As informações recebidas das empresas admitida...</td>\n",
       "      <td>NaN</td>\n",
       "      <td>NaN</td>\n",
       "      <td>NaN</td>\n",
       "      <td>NaN</td>\n",
       "    </tr>\n",
       "    <tr>\n",
       "      <th>570</th>\n",
       "      <td>nosso site www.b3.com.br.</td>\n",
       "      <td>NaN</td>\n",
       "      <td>NaN</td>\n",
       "      <td>NaN</td>\n",
       "      <td>NaN</td>\n",
       "    </tr>\n",
       "    <tr>\n",
       "      <th>571</th>\n",
       "      <td>Para mais esclarecimentos, sugerimos procurar ...</td>\n",
       "      <td>NaN</td>\n",
       "      <td>NaN</td>\n",
       "      <td>NaN</td>\n",
       "      <td>NaN</td>\n",
       "    </tr>\n",
       "    <tr>\n",
       "      <th>572</th>\n",
       "      <td>potenciais das negociações com valores mobiliá...</td>\n",
       "      <td>NaN</td>\n",
       "      <td>NaN</td>\n",
       "      <td>NaN</td>\n",
       "      <td>NaN</td>\n",
       "    </tr>\n",
       "    <tr>\n",
       "      <th>573</th>\n",
       "      <td>B3 S.A. - Brasil, Bolsa, Balcão</td>\n",
       "      <td>NaN</td>\n",
       "      <td>NaN</td>\n",
       "      <td>NaN</td>\n",
       "      <td>NaN</td>\n",
       "    </tr>\n",
       "  </tbody>\n",
       "</table>\n",
       "<p>574 rows × 5 columns</p>\n",
       "</div>"
      ],
      "text/plain": [
       "                                       SETOR ECONÔMICO  \\\n",
       "0                                                  NaN   \n",
       "1                      Petróleo, Gás e Biocombustíveis   \n",
       "2                                                  NaN   \n",
       "3                                                  NaN   \n",
       "4                                                  NaN   \n",
       "..                                                 ...   \n",
       "569  As informações recebidas das empresas admitida...   \n",
       "570                          nosso site www.b3.com.br.   \n",
       "571  Para mais esclarecimentos, sugerimos procurar ...   \n",
       "572  potenciais das negociações com valores mobiliá...   \n",
       "573                    B3 S.A. - Brasil, Bolsa, Balcão   \n",
       "\n",
       "                            SUBSETOR                           SEGMENTO  \\\n",
       "0                                NaN                                NaN   \n",
       "1    Petróleo, Gás e Biocombustíveis  Exploração, Refino e Distribuição   \n",
       "2                                NaN                       3R PETROLEUM   \n",
       "3                                NaN                       COSAN          \n",
       "4                                NaN                        ENAUTA PART   \n",
       "..                               ...                                ...   \n",
       "569                              NaN                                NaN   \n",
       "570                              NaN                                NaN   \n",
       "571                              NaN                                NaN   \n",
       "572                              NaN                                NaN   \n",
       "573                              NaN                                NaN   \n",
       "\n",
       "    LISTAGEM       Unnamed: 4  \n",
       "0     CÓDIGO         SEGMENTO  \n",
       "1        NaN              NaN  \n",
       "2       RRRP  NM               \n",
       "3       CSAN  NM               \n",
       "4       ENAT  NM               \n",
       "..       ...              ...  \n",
       "569      NaN              NaN  \n",
       "570      NaN              NaN  \n",
       "571      NaN              NaN  \n",
       "572      NaN              NaN  \n",
       "573      NaN              NaN  \n",
       "\n",
       "[574 rows x 5 columns]"
      ]
     },
     "execution_count": 23,
     "metadata": {},
     "output_type": "execute_result"
    }
   ],
   "source": [
    "setores"
   ]
  },
  {
   "cell_type": "code",
   "execution_count": 25,
   "id": "8da04bdb",
   "metadata": {},
   "outputs": [
    {
     "data": {
      "text/html": [
       "<div>\n",
       "<style scoped>\n",
       "    .dataframe tbody tr th:only-of-type {\n",
       "        vertical-align: middle;\n",
       "    }\n",
       "\n",
       "    .dataframe tbody tr th {\n",
       "        vertical-align: top;\n",
       "    }\n",
       "\n",
       "    .dataframe thead th {\n",
       "        text-align: right;\n",
       "    }\n",
       "</style>\n",
       "<table border=\"1\" class=\"dataframe\">\n",
       "  <thead>\n",
       "    <tr style=\"text-align: right;\">\n",
       "      <th></th>\n",
       "      <th>SUBSETOR</th>\n",
       "      <th>SEGMENTO</th>\n",
       "      <th>LISTAGEM</th>\n",
       "    </tr>\n",
       "  </thead>\n",
       "  <tbody>\n",
       "    <tr>\n",
       "      <th>1</th>\n",
       "      <td>Petróleo, Gás e Biocombustíveis</td>\n",
       "      <td>Exploração, Refino e Distribuição</td>\n",
       "      <td>NaN</td>\n",
       "    </tr>\n",
       "    <tr>\n",
       "      <th>2</th>\n",
       "      <td>Petróleo, Gás e Biocombustíveis</td>\n",
       "      <td>3R PETROLEUM</td>\n",
       "      <td>RRRP</td>\n",
       "    </tr>\n",
       "    <tr>\n",
       "      <th>3</th>\n",
       "      <td>Petróleo, Gás e Biocombustíveis</td>\n",
       "      <td>COSAN</td>\n",
       "      <td>CSAN</td>\n",
       "    </tr>\n",
       "    <tr>\n",
       "      <th>4</th>\n",
       "      <td>Petróleo, Gás e Biocombustíveis</td>\n",
       "      <td>ENAUTA PART</td>\n",
       "      <td>ENAT</td>\n",
       "    </tr>\n",
       "    <tr>\n",
       "      <th>5</th>\n",
       "      <td>Petróleo, Gás e Biocombustíveis</td>\n",
       "      <td>PET MANGUINH</td>\n",
       "      <td>RPMG</td>\n",
       "    </tr>\n",
       "    <tr>\n",
       "      <th>...</th>\n",
       "      <td>...</td>\n",
       "      <td>...</td>\n",
       "      <td>...</td>\n",
       "    </tr>\n",
       "    <tr>\n",
       "      <th>551</th>\n",
       "      <td>Outros</td>\n",
       "      <td>POLPAR</td>\n",
       "      <td>PPAR</td>\n",
       "    </tr>\n",
       "    <tr>\n",
       "      <th>552</th>\n",
       "      <td>Outros</td>\n",
       "      <td>PROMPT PART</td>\n",
       "      <td>PRPT</td>\n",
       "    </tr>\n",
       "    <tr>\n",
       "      <th>553</th>\n",
       "      <td>Outros</td>\n",
       "      <td>SUDESTE S/A</td>\n",
       "      <td>OPSE</td>\n",
       "    </tr>\n",
       "    <tr>\n",
       "      <th>554</th>\n",
       "      <td>Outros</td>\n",
       "      <td>SUL 116 PART</td>\n",
       "      <td>OPTS</td>\n",
       "    </tr>\n",
       "    <tr>\n",
       "      <th>555</th>\n",
       "      <td>Outros</td>\n",
       "      <td>YBYRA S/A</td>\n",
       "      <td>YBRA</td>\n",
       "    </tr>\n",
       "  </tbody>\n",
       "</table>\n",
       "<p>531 rows × 3 columns</p>\n",
       "</div>"
      ],
      "text/plain": [
       "                            SUBSETOR                           SEGMENTO  \\\n",
       "1    Petróleo, Gás e Biocombustíveis  Exploração, Refino e Distribuição   \n",
       "2    Petróleo, Gás e Biocombustíveis                       3R PETROLEUM   \n",
       "3    Petróleo, Gás e Biocombustíveis                              COSAN   \n",
       "4    Petróleo, Gás e Biocombustíveis                        ENAUTA PART   \n",
       "5    Petróleo, Gás e Biocombustíveis                       PET MANGUINH   \n",
       "..                               ...                                ...   \n",
       "551                           Outros                             POLPAR   \n",
       "552                           Outros                        PROMPT PART   \n",
       "553                           Outros                        SUDESTE S/A   \n",
       "554                           Outros                       SUL 116 PART   \n",
       "555                           Outros                          YBYRA S/A   \n",
       "\n",
       "    LISTAGEM  \n",
       "1        NaN  \n",
       "2       RRRP  \n",
       "3       CSAN  \n",
       "4       ENAT  \n",
       "5       RPMG  \n",
       "..       ...  \n",
       "551     PPAR  \n",
       "552     PRPT  \n",
       "553     OPSE  \n",
       "554     OPTS  \n",
       "555     YBRA  \n",
       "\n",
       "[531 rows x 3 columns]"
      ]
     },
     "execution_count": 25,
     "metadata": {},
     "output_type": "execute_result"
    }
   ],
   "source": [
    "setores['SUBSETOR'] = setores['SUBSETOR'].ffill()\n",
    "setores = setores.dropna(subset = ['SEGMENTO'])\n",
    "setores = setores[['SUBSETOR', 'SEGMENTO', 'LISTAGEM']]\n",
    "setores['SEGMENTO'] = setores['SEGMENTO'].str.strip()\n",
    "\n",
    "setores"
   ]
  },
  {
   "cell_type": "code",
   "execution_count": 26,
   "id": "6b985ddf",
   "metadata": {},
   "outputs": [
    {
     "data": {
      "text/html": [
       "<div>\n",
       "<style scoped>\n",
       "    .dataframe tbody tr th:only-of-type {\n",
       "        vertical-align: middle;\n",
       "    }\n",
       "\n",
       "    .dataframe tbody tr th {\n",
       "        vertical-align: top;\n",
       "    }\n",
       "\n",
       "    .dataframe thead th {\n",
       "        text-align: right;\n",
       "    }\n",
       "</style>\n",
       "<table border=\"1\" class=\"dataframe\">\n",
       "  <thead>\n",
       "    <tr style=\"text-align: right;\">\n",
       "      <th></th>\n",
       "      <th>SETOR</th>\n",
       "      <th>NOME</th>\n",
       "      <th>TICKER</th>\n",
       "    </tr>\n",
       "  </thead>\n",
       "  <tbody>\n",
       "    <tr>\n",
       "      <th>2</th>\n",
       "      <td>Petróleo, Gás e Biocombustíveis</td>\n",
       "      <td>3R PETROLEUM</td>\n",
       "      <td>RRRP</td>\n",
       "    </tr>\n",
       "    <tr>\n",
       "      <th>3</th>\n",
       "      <td>Petróleo, Gás e Biocombustíveis</td>\n",
       "      <td>COSAN</td>\n",
       "      <td>CSAN</td>\n",
       "    </tr>\n",
       "    <tr>\n",
       "      <th>4</th>\n",
       "      <td>Petróleo, Gás e Biocombustíveis</td>\n",
       "      <td>ENAUTA PART</td>\n",
       "      <td>ENAT</td>\n",
       "    </tr>\n",
       "    <tr>\n",
       "      <th>5</th>\n",
       "      <td>Petróleo, Gás e Biocombustíveis</td>\n",
       "      <td>PET MANGUINH</td>\n",
       "      <td>RPMG</td>\n",
       "    </tr>\n",
       "    <tr>\n",
       "      <th>6</th>\n",
       "      <td>Petróleo, Gás e Biocombustíveis</td>\n",
       "      <td>PETROBRAS</td>\n",
       "      <td>PETR</td>\n",
       "    </tr>\n",
       "    <tr>\n",
       "      <th>...</th>\n",
       "      <td>...</td>\n",
       "      <td>...</td>\n",
       "      <td>...</td>\n",
       "    </tr>\n",
       "    <tr>\n",
       "      <th>551</th>\n",
       "      <td>Outros</td>\n",
       "      <td>POLPAR</td>\n",
       "      <td>PPAR</td>\n",
       "    </tr>\n",
       "    <tr>\n",
       "      <th>552</th>\n",
       "      <td>Outros</td>\n",
       "      <td>PROMPT PART</td>\n",
       "      <td>PRPT</td>\n",
       "    </tr>\n",
       "    <tr>\n",
       "      <th>553</th>\n",
       "      <td>Outros</td>\n",
       "      <td>SUDESTE S/A</td>\n",
       "      <td>OPSE</td>\n",
       "    </tr>\n",
       "    <tr>\n",
       "      <th>554</th>\n",
       "      <td>Outros</td>\n",
       "      <td>SUL 116 PART</td>\n",
       "      <td>OPTS</td>\n",
       "    </tr>\n",
       "    <tr>\n",
       "      <th>555</th>\n",
       "      <td>Outros</td>\n",
       "      <td>YBYRA S/A</td>\n",
       "      <td>YBRA</td>\n",
       "    </tr>\n",
       "  </tbody>\n",
       "</table>\n",
       "<p>446 rows × 3 columns</p>\n",
       "</div>"
      ],
      "text/plain": [
       "                               SETOR          NOME TICKER\n",
       "2    Petróleo, Gás e Biocombustíveis  3R PETROLEUM   RRRP\n",
       "3    Petróleo, Gás e Biocombustíveis         COSAN   CSAN\n",
       "4    Petróleo, Gás e Biocombustíveis   ENAUTA PART   ENAT\n",
       "5    Petróleo, Gás e Biocombustíveis  PET MANGUINH   RPMG\n",
       "6    Petróleo, Gás e Biocombustíveis     PETROBRAS   PETR\n",
       "..                               ...           ...    ...\n",
       "551                           Outros        POLPAR   PPAR\n",
       "552                           Outros   PROMPT PART   PRPT\n",
       "553                           Outros   SUDESTE S/A   OPSE\n",
       "554                           Outros  SUL 116 PART   OPTS\n",
       "555                           Outros     YBYRA S/A   YBRA\n",
       "\n",
       "[446 rows x 3 columns]"
      ]
     },
     "execution_count": 26,
     "metadata": {},
     "output_type": "execute_result"
    }
   ],
   "source": [
    "setores = setores.dropna()\n",
    "setores.columns = ['SETOR', 'NOME', 'TICKER']\n",
    "setores"
   ]
  },
  {
   "cell_type": "code",
   "execution_count": 27,
   "id": "6f87e512",
   "metadata": {},
   "outputs": [],
   "source": [
    "setores.to_csv(\"setores.csv\", index = False)"
   ]
  },
  {
   "cell_type": "code",
   "execution_count": null,
   "id": "a780eed4",
   "metadata": {},
   "outputs": [],
   "source": []
  },
  {
   "cell_type": "code",
   "execution_count": null,
   "id": "c7c52844",
   "metadata": {},
   "outputs": [],
   "source": []
  },
  {
   "cell_type": "code",
   "execution_count": null,
   "id": "86b81874",
   "metadata": {},
   "outputs": [],
   "source": []
  },
  {
   "cell_type": "code",
   "execution_count": null,
   "id": "297de8a5",
   "metadata": {},
   "outputs": [],
   "source": []
  },
  {
   "cell_type": "code",
   "execution_count": null,
   "id": "2b1ebc67",
   "metadata": {},
   "outputs": [],
   "source": []
  },
  {
   "cell_type": "code",
   "execution_count": null,
   "id": "09e44b84",
   "metadata": {},
   "outputs": [],
   "source": []
  },
  {
   "cell_type": "code",
   "execution_count": null,
   "id": "8115322d",
   "metadata": {},
   "outputs": [],
   "source": []
  },
  {
   "cell_type": "code",
   "execution_count": null,
   "id": "9a23bc0f",
   "metadata": {},
   "outputs": [],
   "source": []
  },
  {
   "cell_type": "code",
   "execution_count": null,
   "id": "5390e5d3",
   "metadata": {},
   "outputs": [],
   "source": []
  },
  {
   "cell_type": "code",
   "execution_count": null,
   "id": "3ed43681",
   "metadata": {},
   "outputs": [],
   "source": []
  },
  {
   "cell_type": "code",
   "execution_count": null,
   "id": "ca7d58ea",
   "metadata": {},
   "outputs": [],
   "source": []
  },
  {
   "cell_type": "code",
   "execution_count": null,
   "id": "c385778f",
   "metadata": {},
   "outputs": [],
   "source": []
  },
  {
   "cell_type": "code",
   "execution_count": null,
   "id": "cd4a48f4",
   "metadata": {},
   "outputs": [],
   "source": []
  }
 ],
 "metadata": {
  "kernelspec": {
   "display_name": "Python 3 (ipykernel)",
   "language": "python",
   "name": "python3"
  },
  "language_info": {
   "codemirror_mode": {
    "name": "ipython",
    "version": 3
   },
   "file_extension": ".py",
   "mimetype": "text/x-python",
   "name": "python",
   "nbconvert_exporter": "python",
   "pygments_lexer": "ipython3",
   "version": "3.9.13"
  }
 },
 "nbformat": 4,
 "nbformat_minor": 5
}
