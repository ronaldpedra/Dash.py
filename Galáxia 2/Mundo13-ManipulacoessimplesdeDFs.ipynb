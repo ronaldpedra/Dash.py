{
 "cells": [
  {
   "cell_type": "markdown",
   "id": "fc6c176b",
   "metadata": {},
   "source": [
    "# Mundo 13 - Manipulações simples de DFs"
   ]
  },
  {
   "cell_type": "code",
   "execution_count": 1,
   "id": "0d0bf646",
   "metadata": {},
   "outputs": [],
   "source": [
    "import pandas as pd"
   ]
  },
  {
   "cell_type": "code",
   "execution_count": 2,
   "id": "2c164d8e",
   "metadata": {},
   "outputs": [
    {
     "data": {
      "text/html": [
       "<div>\n",
       "<style scoped>\n",
       "    .dataframe tbody tr th:only-of-type {\n",
       "        vertical-align: middle;\n",
       "    }\n",
       "\n",
       "    .dataframe tbody tr th {\n",
       "        vertical-align: top;\n",
       "    }\n",
       "\n",
       "    .dataframe thead th {\n",
       "        text-align: right;\n",
       "    }\n",
       "</style>\n",
       "<table border=\"1\" class=\"dataframe\">\n",
       "  <thead>\n",
       "    <tr style=\"text-align: right;\">\n",
       "      <th></th>\n",
       "      <th>moeda</th>\n",
       "      <th>price</th>\n",
       "      <th>derivativo</th>\n",
       "      <th>data</th>\n",
       "    </tr>\n",
       "  </thead>\n",
       "  <tbody>\n",
       "    <tr>\n",
       "      <th>0</th>\n",
       "      <td>dolar/real</td>\n",
       "      <td>5.24</td>\n",
       "      <td>DOLFT3</td>\n",
       "      <td>2014-01-05</td>\n",
       "    </tr>\n",
       "    <tr>\n",
       "      <th>1</th>\n",
       "      <td>libra/real</td>\n",
       "      <td>4.15</td>\n",
       "      <td>LIBFT3</td>\n",
       "      <td>2014-01-05</td>\n",
       "    </tr>\n",
       "    <tr>\n",
       "      <th>2</th>\n",
       "      <td>dolar/real</td>\n",
       "      <td>5.26</td>\n",
       "      <td>DOLFT3</td>\n",
       "      <td>2014-01-06</td>\n",
       "    </tr>\n",
       "    <tr>\n",
       "      <th>3</th>\n",
       "      <td>libra/real</td>\n",
       "      <td>4.23</td>\n",
       "      <td>LIBFT3</td>\n",
       "      <td>2014-01-06</td>\n",
       "    </tr>\n",
       "    <tr>\n",
       "      <th>4</th>\n",
       "      <td>dolar/real</td>\n",
       "      <td>5.55</td>\n",
       "      <td>DOLFT3</td>\n",
       "      <td>2014-01-07</td>\n",
       "    </tr>\n",
       "    <tr>\n",
       "      <th>5</th>\n",
       "      <td>libra/real</td>\n",
       "      <td>4.02</td>\n",
       "      <td>LIBFT3</td>\n",
       "      <td>2014-01-07</td>\n",
       "    </tr>\n",
       "    <tr>\n",
       "      <th>6</th>\n",
       "      <td>dolar/real</td>\n",
       "      <td>5.76</td>\n",
       "      <td>DOLFT3</td>\n",
       "      <td>2014-01-08</td>\n",
       "    </tr>\n",
       "    <tr>\n",
       "      <th>7</th>\n",
       "      <td>libra/real</td>\n",
       "      <td>3.98</td>\n",
       "      <td>LIBFT3</td>\n",
       "      <td>2014-01-08</td>\n",
       "    </tr>\n",
       "  </tbody>\n",
       "</table>\n",
       "</div>"
      ],
      "text/plain": [
       "        moeda  price derivativo       data\n",
       "0  dolar/real   5.24     DOLFT3 2014-01-05\n",
       "1  libra/real   4.15     LIBFT3 2014-01-05\n",
       "2  dolar/real   5.26     DOLFT3 2014-01-06\n",
       "3  libra/real   4.23     LIBFT3 2014-01-06\n",
       "4  dolar/real   5.55     DOLFT3 2014-01-07\n",
       "5  libra/real   4.02     LIBFT3 2014-01-07\n",
       "6  dolar/real   5.76     DOLFT3 2014-01-08\n",
       "7  libra/real   3.98     LIBFT3 2014-01-08"
      ]
     },
     "execution_count": 2,
     "metadata": {},
     "output_type": "execute_result"
    }
   ],
   "source": [
    "df_cambio = pd.DataFrame({\n",
    "    \"moeda\": ['dolar/real', 'libra/real'] * 4,\n",
    "    \"price\": [5.24, 4.15, 5.26, 4.23, 5.55, 4.02, 5.76, 3.98],\n",
    "    \"derivativo\": list([\"DOLFT3\", \"LIBFT3\"]) * 4, \n",
    "    \"data\": sorted(list(pd.date_range(\"1/5/2014\", periods = 4)) * 2)\n",
    "})\n",
    "\n",
    "df_cambio"
   ]
  },
  {
   "cell_type": "code",
   "execution_count": 5,
   "id": "971a0635",
   "metadata": {},
   "outputs": [
    {
     "data": {
      "text/html": [
       "<div>\n",
       "<style scoped>\n",
       "    .dataframe tbody tr th:only-of-type {\n",
       "        vertical-align: middle;\n",
       "    }\n",
       "\n",
       "    .dataframe tbody tr th {\n",
       "        vertical-align: top;\n",
       "    }\n",
       "\n",
       "    .dataframe thead th {\n",
       "        text-align: right;\n",
       "    }\n",
       "</style>\n",
       "<table border=\"1\" class=\"dataframe\">\n",
       "  <thead>\n",
       "    <tr style=\"text-align: right;\">\n",
       "      <th></th>\n",
       "      <th>moeda</th>\n",
       "      <th>cotacao</th>\n",
       "      <th>codigo</th>\n",
       "      <th>data</th>\n",
       "    </tr>\n",
       "  </thead>\n",
       "  <tbody>\n",
       "    <tr>\n",
       "      <th>0</th>\n",
       "      <td>dolar/real</td>\n",
       "      <td>5.24</td>\n",
       "      <td>DOLFT3</td>\n",
       "      <td>2014-01-05</td>\n",
       "    </tr>\n",
       "    <tr>\n",
       "      <th>1</th>\n",
       "      <td>libra/real</td>\n",
       "      <td>4.15</td>\n",
       "      <td>LIBFT3</td>\n",
       "      <td>2014-01-05</td>\n",
       "    </tr>\n",
       "    <tr>\n",
       "      <th>2</th>\n",
       "      <td>dolar/real</td>\n",
       "      <td>5.26</td>\n",
       "      <td>DOLFT3</td>\n",
       "      <td>2014-01-06</td>\n",
       "    </tr>\n",
       "    <tr>\n",
       "      <th>3</th>\n",
       "      <td>libra/real</td>\n",
       "      <td>4.23</td>\n",
       "      <td>LIBFT3</td>\n",
       "      <td>2014-01-06</td>\n",
       "    </tr>\n",
       "    <tr>\n",
       "      <th>4</th>\n",
       "      <td>dolar/real</td>\n",
       "      <td>5.55</td>\n",
       "      <td>DOLFT3</td>\n",
       "      <td>2014-01-07</td>\n",
       "    </tr>\n",
       "    <tr>\n",
       "      <th>5</th>\n",
       "      <td>libra/real</td>\n",
       "      <td>4.02</td>\n",
       "      <td>LIBFT3</td>\n",
       "      <td>2014-01-07</td>\n",
       "    </tr>\n",
       "    <tr>\n",
       "      <th>6</th>\n",
       "      <td>dolar/real</td>\n",
       "      <td>5.76</td>\n",
       "      <td>DOLFT3</td>\n",
       "      <td>2014-01-08</td>\n",
       "    </tr>\n",
       "    <tr>\n",
       "      <th>7</th>\n",
       "      <td>libra/real</td>\n",
       "      <td>3.98</td>\n",
       "      <td>LIBFT3</td>\n",
       "      <td>2014-01-08</td>\n",
       "    </tr>\n",
       "  </tbody>\n",
       "</table>\n",
       "</div>"
      ],
      "text/plain": [
       "        moeda  cotacao  codigo       data\n",
       "0  dolar/real     5.24  DOLFT3 2014-01-05\n",
       "1  libra/real     4.15  LIBFT3 2014-01-05\n",
       "2  dolar/real     5.26  DOLFT3 2014-01-06\n",
       "3  libra/real     4.23  LIBFT3 2014-01-06\n",
       "4  dolar/real     5.55  DOLFT3 2014-01-07\n",
       "5  libra/real     4.02  LIBFT3 2014-01-07\n",
       "6  dolar/real     5.76  DOLFT3 2014-01-08\n",
       "7  libra/real     3.98  LIBFT3 2014-01-08"
      ]
     },
     "execution_count": 5,
     "metadata": {},
     "output_type": "execute_result"
    }
   ],
   "source": [
    "#Como trocar o nome das colunas \n",
    "\n",
    "#df_cambio.columns\n",
    "\n",
    "df_cambio.columns = ['moeda', 'cotacao', 'codigo', 'data']\n",
    "\n",
    "df_cambio"
   ]
  },
  {
   "cell_type": "code",
   "execution_count": 6,
   "id": "12d1fde5",
   "metadata": {},
   "outputs": [
    {
     "data": {
      "text/plain": [
       "0    5.24\n",
       "1    4.15\n",
       "2    5.26\n",
       "3    4.23\n",
       "4    5.55\n",
       "5    4.02\n",
       "6    5.76\n",
       "7    3.98\n",
       "Name: cotacao, dtype: float64"
      ]
     },
     "execution_count": 6,
     "metadata": {},
     "output_type": "execute_result"
    }
   ],
   "source": [
    "#como selecionar colunas \n",
    "\n",
    "cotacao = df_cambio['cotacao'] #te devolve uma serie\n",
    "\n",
    "cotacao\n",
    "#df_cambio.cotacao #pode selecionar colunas assim tambem"
   ]
  },
  {
   "cell_type": "code",
   "execution_count": 7,
   "id": "89c7beed",
   "metadata": {},
   "outputs": [
    {
     "name": "stdout",
     "output_type": "stream",
     "text": [
      "   cotacao       data\n",
      "0     5.24 2014-01-05\n",
      "1     4.15 2014-01-05\n",
      "2     5.26 2014-01-06\n",
      "3     4.23 2014-01-06\n",
      "4     5.55 2014-01-07\n",
      "5     4.02 2014-01-07\n",
      "6     5.76 2014-01-08\n",
      "7     3.98 2014-01-08\n"
     ]
    },
    {
     "data": {
      "text/plain": [
       "data\n",
       "2014-01-05    5.24\n",
       "2014-01-05    4.15\n",
       "2014-01-06    5.26\n",
       "2014-01-06    4.23\n",
       "2014-01-07    5.55\n",
       "2014-01-07    4.02\n",
       "2014-01-08    5.76\n",
       "2014-01-08    3.98\n",
       "Name: cotacao, dtype: float64"
      ]
     },
     "execution_count": 7,
     "metadata": {},
     "output_type": "execute_result"
    }
   ],
   "source": [
    "#2 colunas\n",
    "cotacao_e_data = df_cambio[['cotacao', 'data']] #lista dentro da lista\n",
    "\n",
    "print(cotacao_e_data)\n",
    "\n",
    "#vantagem da data como indice\n",
    "\n",
    "df_cambio = df_cambio.set_index(\"data\")\n",
    "\n",
    "cotacao = df_cambio['cotacao'] \n",
    "\n",
    "cotacao"
   ]
  },
  {
   "cell_type": "code",
   "execution_count": 10,
   "id": "79d8f8a1",
   "metadata": {},
   "outputs": [
    {
     "name": "stdout",
     "output_type": "stream",
     "text": [
      "                 moeda  cotacao  codigo\n",
      "data                                   \n",
      "2014-01-05  dolar/real     5.24  DOLFT3\n",
      "2014-01-05  libra/real     4.15  LIBFT3\n",
      "                 moeda  cotacao  codigo\n",
      "data                                   \n",
      "2014-01-05  dolar/real     5.24  DOLFT3\n",
      "2014-01-05  libra/real     4.15  LIBFT3\n",
      "2014-01-06  dolar/real     5.26  DOLFT3\n",
      "2014-01-06  libra/real     4.23  LIBFT3\n",
      "2014-01-07  dolar/real     5.55  DOLFT3\n",
      "2014-01-07  libra/real     4.02  LIBFT3\n",
      "data\n",
      "2014-01-05    5.24\n",
      "2014-01-05    4.15\n",
      "2014-01-06    5.26\n",
      "2014-01-06    4.23\n",
      "2014-01-07    5.55\n",
      "2014-01-07    4.02\n",
      "Name: cotacao, dtype: float64\n",
      "data\n",
      "2014-01-05    5.24\n",
      "2014-01-05    4.15\n",
      "Name: cotacao, dtype: float64\n",
      "                 moeda  cotacao\n",
      "data                           \n",
      "2014-01-05  dolar/real     5.24\n",
      "2014-01-05  libra/real     4.15\n",
      "                 moeda  codigo\n",
      "data                          \n",
      "2014-01-05  dolar/real  DOLFT3\n",
      "2014-01-05  libra/real  LIBFT3\n"
     ]
    },
    {
     "data": {
      "text/plain": [
       "data\n",
       "2014-01-05    5.24\n",
       "2014-01-05    4.15\n",
       "2014-01-06    5.26\n",
       "2014-01-06    4.23\n",
       "2014-01-07    5.55\n",
       "2014-01-07    4.02\n",
       "2014-01-08    5.76\n",
       "2014-01-08    3.98\n",
       "Name: cotacao, dtype: float64"
      ]
     },
     "execution_count": 10,
     "metadata": {},
     "output_type": "execute_result"
    }
   ],
   "source": [
    "#ferramentas loc, iloc, at, iat\n",
    "\n",
    "#loc serve para localizar através de nomes\n",
    "\n",
    "#um unico dia\n",
    "print(df_cambio.loc['2014-01-05'])\n",
    "\n",
    "#algum periodo\n",
    "print(df_cambio.loc['2014-01-05':'2014-01-07'])\n",
    "\n",
    "#um periodo sobre a informação preço\n",
    "print(df_cambio.loc['2014-01-05':'2014-01-07', 'cotacao'])\n",
    "\n",
    "#um dia sobre a informação preço\n",
    "print(df_cambio.loc['2014-01-05', 'cotacao'])\n",
    "\n",
    "#um dia sobre a informação preço e moeda\n",
    "print(df_cambio.loc['2014-01-05', 'moeda':'cotacao'])\n",
    "\n",
    "#um dia sobre a informação preço e moeda\n",
    "print(df_cambio.loc['2014-01-05', ['moeda', 'codigo']])\n",
    "\n",
    "#todos os dados da informação preço\n",
    "df_cambio.loc[:, 'cotacao']"
   ]
  },
  {
   "cell_type": "code",
   "execution_count": 11,
   "id": "0493df09",
   "metadata": {},
   "outputs": [
    {
     "data": {
      "text/plain": [
       "data\n",
       "2014-01-05    5.24\n",
       "2014-01-05    4.15\n",
       "Name: cotacao, dtype: float64"
      ]
     },
     "execution_count": 11,
     "metadata": {},
     "output_type": "execute_result"
    }
   ],
   "source": [
    "#at é igual ao loc, só que serve pra localizar um único item. + otimizado\n",
    "\n",
    "df_cambio.at['2014-01-05', \"cotacao\"] #mais otimizado que loc pra pegar uma linha e uma coluna"
   ]
  },
  {
   "cell_type": "code",
   "execution_count": 12,
   "id": "fc414a36",
   "metadata": {},
   "outputs": [
    {
     "name": "stdout",
     "output_type": "stream",
     "text": [
      "moeda      dolar/real\n",
      "cotacao          5.24\n",
      "codigo         DOLFT3\n",
      "Name: 2014-01-05 00:00:00, dtype: object\n",
      "                 moeda  cotacao  codigo\n",
      "data                                   \n",
      "2014-01-05  dolar/real     5.24  DOLFT3\n",
      "2014-01-05  libra/real     4.15  LIBFT3\n",
      "2014-01-06  dolar/real     5.26  DOLFT3\n",
      "data\n",
      "2014-01-05    dolar/real\n",
      "2014-01-05    libra/real\n",
      "2014-01-06    dolar/real\n",
      "2014-01-06    libra/real\n",
      "2014-01-07    dolar/real\n",
      "2014-01-07    libra/real\n",
      "2014-01-08    dolar/real\n",
      "2014-01-08    libra/real\n",
      "Name: moeda, dtype: object\n",
      "5.24\n",
      "5.24\n"
     ]
    },
    {
     "data": {
      "text/plain": [
       "moeda      libra/real\n",
       "cotacao          3.98\n",
       "codigo         LIBFT3\n",
       "Name: 2014-01-08 00:00:00, dtype: object"
      ]
     },
     "execution_count": 12,
     "metadata": {},
     "output_type": "execute_result"
    }
   ],
   "source": [
    "#iloc serve pra selecionar itens através de índices numéricos. \n",
    "#Parecido com as listas, mas é preciso usar iloc antes.\n",
    "\n",
    "#primeira linha\n",
    "print(df_cambio.iloc[0, :])\n",
    "\n",
    "#tres primeiras linhas\n",
    "print(df_cambio.iloc[0:3, :])\n",
    "\n",
    "#primeira coluna\n",
    "print(df_cambio.iloc[:, 0])\n",
    "\n",
    "#primeiro preço do cambio\n",
    "print(df_cambio.iloc[0, 1])\n",
    "\n",
    "#primeiro preço do cambio com iat\n",
    "print(df_cambio.iat[0, 1])\n",
    "\n",
    "#ultima linha\n",
    "df_cambio.iloc[-1, :]"
   ]
  },
  {
   "cell_type": "code",
   "execution_count": 13,
   "id": "3d46ec08",
   "metadata": {},
   "outputs": [
    {
     "data": {
      "text/html": [
       "<div>\n",
       "<style scoped>\n",
       "    .dataframe tbody tr th:only-of-type {\n",
       "        vertical-align: middle;\n",
       "    }\n",
       "\n",
       "    .dataframe tbody tr th {\n",
       "        vertical-align: top;\n",
       "    }\n",
       "\n",
       "    .dataframe thead th {\n",
       "        text-align: right;\n",
       "    }\n",
       "</style>\n",
       "<table border=\"1\" class=\"dataframe\">\n",
       "  <thead>\n",
       "    <tr style=\"text-align: right;\">\n",
       "      <th></th>\n",
       "      <th>moeda</th>\n",
       "      <th>cotacao</th>\n",
       "      <th>codigo</th>\n",
       "    </tr>\n",
       "    <tr>\n",
       "      <th>data</th>\n",
       "      <th></th>\n",
       "      <th></th>\n",
       "      <th></th>\n",
       "    </tr>\n",
       "  </thead>\n",
       "  <tbody>\n",
       "    <tr>\n",
       "      <th>2014-01-05</th>\n",
       "      <td>dolar/real</td>\n",
       "      <td>5.24</td>\n",
       "      <td>DOLFT3</td>\n",
       "    </tr>\n",
       "    <tr>\n",
       "      <th>2014-01-05</th>\n",
       "      <td>libra/real</td>\n",
       "      <td>4.15</td>\n",
       "      <td>LIBFT3</td>\n",
       "    </tr>\n",
       "    <tr>\n",
       "      <th>2014-01-06</th>\n",
       "      <td>dolar/real</td>\n",
       "      <td>5.26</td>\n",
       "      <td>DOLFT3</td>\n",
       "    </tr>\n",
       "    <tr>\n",
       "      <th>2014-01-06</th>\n",
       "      <td>libra/real</td>\n",
       "      <td>4.23</td>\n",
       "      <td>LIBFT3</td>\n",
       "    </tr>\n",
       "    <tr>\n",
       "      <th>2014-01-07</th>\n",
       "      <td>dolar/real</td>\n",
       "      <td>5.55</td>\n",
       "      <td>DOLFT3</td>\n",
       "    </tr>\n",
       "    <tr>\n",
       "      <th>2014-01-07</th>\n",
       "      <td>libra/real</td>\n",
       "      <td>4.02</td>\n",
       "      <td>LIBFT3</td>\n",
       "    </tr>\n",
       "    <tr>\n",
       "      <th>2014-01-08</th>\n",
       "      <td>dolar/real</td>\n",
       "      <td>5.76</td>\n",
       "      <td>DOLFT3</td>\n",
       "    </tr>\n",
       "    <tr>\n",
       "      <th>2014-01-08</th>\n",
       "      <td>libra/real</td>\n",
       "      <td>3.98</td>\n",
       "      <td>LIBFT3</td>\n",
       "    </tr>\n",
       "  </tbody>\n",
       "</table>\n",
       "</div>"
      ],
      "text/plain": [
       "                 moeda  cotacao  codigo\n",
       "data                                   \n",
       "2014-01-05  dolar/real     5.24  DOLFT3\n",
       "2014-01-05  libra/real     4.15  LIBFT3\n",
       "2014-01-06  dolar/real     5.26  DOLFT3\n",
       "2014-01-06  libra/real     4.23  LIBFT3\n",
       "2014-01-07  dolar/real     5.55  DOLFT3\n",
       "2014-01-07  libra/real     4.02  LIBFT3\n",
       "2014-01-08  dolar/real     5.76  DOLFT3\n",
       "2014-01-08  libra/real     3.98  LIBFT3"
      ]
     },
     "execution_count": 13,
     "metadata": {},
     "output_type": "execute_result"
    }
   ],
   "source": [
    "df_cambio"
   ]
  },
  {
   "cell_type": "code",
   "execution_count": 15,
   "id": "f4fbdf56",
   "metadata": {},
   "outputs": [
    {
     "data": {
      "text/html": [
       "<div>\n",
       "<style scoped>\n",
       "    .dataframe tbody tr th:only-of-type {\n",
       "        vertical-align: middle;\n",
       "    }\n",
       "\n",
       "    .dataframe tbody tr th {\n",
       "        vertical-align: top;\n",
       "    }\n",
       "\n",
       "    .dataframe thead th {\n",
       "        text-align: right;\n",
       "    }\n",
       "</style>\n",
       "<table border=\"1\" class=\"dataframe\">\n",
       "  <thead>\n",
       "    <tr style=\"text-align: right;\">\n",
       "      <th></th>\n",
       "      <th>moeda</th>\n",
       "      <th>cotacao</th>\n",
       "      <th>codigo</th>\n",
       "    </tr>\n",
       "    <tr>\n",
       "      <th>data</th>\n",
       "      <th></th>\n",
       "      <th></th>\n",
       "      <th></th>\n",
       "    </tr>\n",
       "  </thead>\n",
       "  <tbody>\n",
       "    <tr>\n",
       "      <th>2014-01-05</th>\n",
       "      <td>dolar/real</td>\n",
       "      <td>5.24</td>\n",
       "      <td>DOLFT4</td>\n",
       "    </tr>\n",
       "    <tr>\n",
       "      <th>2014-01-05</th>\n",
       "      <td>libra/real</td>\n",
       "      <td>4.15</td>\n",
       "      <td>LIBFT3</td>\n",
       "    </tr>\n",
       "    <tr>\n",
       "      <th>2014-01-06</th>\n",
       "      <td>dolar/real</td>\n",
       "      <td>5.26</td>\n",
       "      <td>DOLFT4</td>\n",
       "    </tr>\n",
       "    <tr>\n",
       "      <th>2014-01-06</th>\n",
       "      <td>libra/real</td>\n",
       "      <td>4.23</td>\n",
       "      <td>LIBFT3</td>\n",
       "    </tr>\n",
       "    <tr>\n",
       "      <th>2014-01-07</th>\n",
       "      <td>dolar/real</td>\n",
       "      <td>5.55</td>\n",
       "      <td>DOLFT4</td>\n",
       "    </tr>\n",
       "    <tr>\n",
       "      <th>2014-01-07</th>\n",
       "      <td>libra/real</td>\n",
       "      <td>4.02</td>\n",
       "      <td>LIBFT3</td>\n",
       "    </tr>\n",
       "    <tr>\n",
       "      <th>2014-01-08</th>\n",
       "      <td>dolar/real</td>\n",
       "      <td>5.76</td>\n",
       "      <td>DOLFT4</td>\n",
       "    </tr>\n",
       "    <tr>\n",
       "      <th>2014-01-08</th>\n",
       "      <td>libra/real</td>\n",
       "      <td>3.98</td>\n",
       "      <td>LIBFT3</td>\n",
       "    </tr>\n",
       "  </tbody>\n",
       "</table>\n",
       "</div>"
      ],
      "text/plain": [
       "                 moeda cotacao  codigo\n",
       "data                                  \n",
       "2014-01-05  dolar/real    5.24  DOLFT4\n",
       "2014-01-05  libra/real    4.15  LIBFT3\n",
       "2014-01-06  dolar/real    5.26  DOLFT4\n",
       "2014-01-06  libra/real    4.23  LIBFT3\n",
       "2014-01-07  dolar/real    5.55  DOLFT4\n",
       "2014-01-07  libra/real    4.02  LIBFT3\n",
       "2014-01-08  dolar/real    5.76  DOLFT4\n",
       "2014-01-08  libra/real    3.98  LIBFT3"
      ]
     },
     "execution_count": 15,
     "metadata": {},
     "output_type": "execute_result"
    }
   ],
   "source": [
    "#Substituir dados com loc\n",
    "\n",
    "#se um ativo mudar o código de negociação?\n",
    "df_cambio.loc[df_cambio['codigo'] == \"DOLFT3\", 'codigo'] = \"DOLFT4\"\n",
    "\n",
    "#df_cambio.loc[df_cambio['codigo'] == \"DOLFT4\"] = \"Zona\"\n",
    "\n",
    "df_cambio"
   ]
  },
  {
   "cell_type": "markdown",
   "id": "68a55b69",
   "metadata": {},
   "source": [
    "# Exercícios\n",
    "\n",
    "* Exercício 21: Coloque a coluna \"ticker\" do dataframe do exercício 20 como índice.\n",
    "* Exercício 22: Mude o nome da coluna do dataframe de \"cotacoes\" para \"precos\".\n",
    "* Exercício 23: Selecione a coluna de preços do dataframe estudado.\n",
    "* Exercício 24: Selecione as duas últimas colunas do dataframe estudado.\n",
    "* Exercício 25: Selecione a primeira linha inteira e a primeira coluna inteira com loc.\n",
    "* Exercício 26: Selecione o preço da weg com iat e com at.\n",
    "* Exercício 27: Selecione as duas primeiras linhas e todas as colunas com iloc."
   ]
  },
  {
   "cell_type": "code",
   "execution_count": 24,
   "id": "2040381d",
   "metadata": {},
   "outputs": [
    {
     "data": {
      "text/html": [
       "<div>\n",
       "<style scoped>\n",
       "    .dataframe tbody tr th:only-of-type {\n",
       "        vertical-align: middle;\n",
       "    }\n",
       "\n",
       "    .dataframe tbody tr th {\n",
       "        vertical-align: top;\n",
       "    }\n",
       "\n",
       "    .dataframe thead th {\n",
       "        text-align: right;\n",
       "    }\n",
       "</style>\n",
       "<table border=\"1\" class=\"dataframe\">\n",
       "  <thead>\n",
       "    <tr style=\"text-align: right;\">\n",
       "      <th></th>\n",
       "      <th>nomes</th>\n",
       "      <th>cotacoes</th>\n",
       "      <th>preco_sobre_lucro</th>\n",
       "      <th>volume</th>\n",
       "    </tr>\n",
       "    <tr>\n",
       "      <th>tickers</th>\n",
       "      <th></th>\n",
       "      <th></th>\n",
       "      <th></th>\n",
       "      <th></th>\n",
       "    </tr>\n",
       "  </thead>\n",
       "  <tbody>\n",
       "    <tr>\n",
       "      <th>WEGE3</th>\n",
       "      <td>Weg</td>\n",
       "      <td>20</td>\n",
       "      <td>25</td>\n",
       "      <td>5000</td>\n",
       "    </tr>\n",
       "    <tr>\n",
       "      <th>PETR3</th>\n",
       "      <td>Petrobras</td>\n",
       "      <td>30</td>\n",
       "      <td>6</td>\n",
       "      <td>1000</td>\n",
       "    </tr>\n",
       "    <tr>\n",
       "      <th>VALE3</th>\n",
       "      <td>Vale</td>\n",
       "      <td>40</td>\n",
       "      <td>12</td>\n",
       "      <td>4000</td>\n",
       "    </tr>\n",
       "    <tr>\n",
       "      <th>PETR4</th>\n",
       "      <td>Petrobras</td>\n",
       "      <td>12</td>\n",
       "      <td>7</td>\n",
       "      <td>7000</td>\n",
       "    </tr>\n",
       "    <tr>\n",
       "      <th>LREN3</th>\n",
       "      <td>Lojas Renner</td>\n",
       "      <td>35</td>\n",
       "      <td>25</td>\n",
       "      <td>1200</td>\n",
       "    </tr>\n",
       "  </tbody>\n",
       "</table>\n",
       "</div>"
      ],
      "text/plain": [
       "                nomes  cotacoes  preco_sobre_lucro  volume\n",
       "tickers                                                   \n",
       "WEGE3             Weg        20                 25    5000\n",
       "PETR3       Petrobras        30                  6    1000\n",
       "VALE3            Vale        40                 12    4000\n",
       "PETR4       Petrobras        12                  7    7000\n",
       "LREN3    Lojas Renner        35                 25    1200"
      ]
     },
     "execution_count": 24,
     "metadata": {},
     "output_type": "execute_result"
    }
   ],
   "source": [
    "# Minha resposta para o exercício 21\n",
    "dicionario = {\n",
    "       \"nomes\": [\"Weg\", \"Petrobras\", \"Vale\", \"Petrobras\", \"Lojas Renner\"],\n",
    "       \"tickers\": [\"WEGE3\", \"PETR3\", \"VALE3\", \"PETR4\", \"LREN3\"],  \n",
    "       \"cotacoes\": [20, 30, 40, 12, 35],\n",
    "       \"preco_sobre_lucro\": [25, 6, 12, 7, 25],  \n",
    "       \"volume\": [5000, 1000, 4000, 7000, 1200]\n",
    "}\n",
    "\n",
    "df_info_empresas = pd.DataFrame(dicionario)\n",
    "\n",
    "df_info_empresas = df_info_empresas.set_index('tickers')\n",
    "\n",
    "df_info_empresas\n"
   ]
  },
  {
   "cell_type": "code",
   "execution_count": 26,
   "id": "c228192e",
   "metadata": {},
   "outputs": [
    {
     "data": {
      "text/html": [
       "<div>\n",
       "<style scoped>\n",
       "    .dataframe tbody tr th:only-of-type {\n",
       "        vertical-align: middle;\n",
       "    }\n",
       "\n",
       "    .dataframe tbody tr th {\n",
       "        vertical-align: top;\n",
       "    }\n",
       "\n",
       "    .dataframe thead th {\n",
       "        text-align: right;\n",
       "    }\n",
       "</style>\n",
       "<table border=\"1\" class=\"dataframe\">\n",
       "  <thead>\n",
       "    <tr style=\"text-align: right;\">\n",
       "      <th></th>\n",
       "      <th>nomes</th>\n",
       "      <th>precos</th>\n",
       "      <th>preco_sobre_lucro</th>\n",
       "      <th>volume</th>\n",
       "    </tr>\n",
       "    <tr>\n",
       "      <th>tickers</th>\n",
       "      <th></th>\n",
       "      <th></th>\n",
       "      <th></th>\n",
       "      <th></th>\n",
       "    </tr>\n",
       "  </thead>\n",
       "  <tbody>\n",
       "    <tr>\n",
       "      <th>WEGE3</th>\n",
       "      <td>Weg</td>\n",
       "      <td>20</td>\n",
       "      <td>25</td>\n",
       "      <td>5000</td>\n",
       "    </tr>\n",
       "    <tr>\n",
       "      <th>PETR3</th>\n",
       "      <td>Petrobras</td>\n",
       "      <td>30</td>\n",
       "      <td>6</td>\n",
       "      <td>1000</td>\n",
       "    </tr>\n",
       "    <tr>\n",
       "      <th>VALE3</th>\n",
       "      <td>Vale</td>\n",
       "      <td>40</td>\n",
       "      <td>12</td>\n",
       "      <td>4000</td>\n",
       "    </tr>\n",
       "    <tr>\n",
       "      <th>PETR4</th>\n",
       "      <td>Petrobras</td>\n",
       "      <td>12</td>\n",
       "      <td>7</td>\n",
       "      <td>7000</td>\n",
       "    </tr>\n",
       "    <tr>\n",
       "      <th>LREN3</th>\n",
       "      <td>Lojas Renner</td>\n",
       "      <td>35</td>\n",
       "      <td>25</td>\n",
       "      <td>1200</td>\n",
       "    </tr>\n",
       "  </tbody>\n",
       "</table>\n",
       "</div>"
      ],
      "text/plain": [
       "                nomes  precos  preco_sobre_lucro  volume\n",
       "tickers                                                 \n",
       "WEGE3             Weg      20                 25    5000\n",
       "PETR3       Petrobras      30                  6    1000\n",
       "VALE3            Vale      40                 12    4000\n",
       "PETR4       Petrobras      12                  7    7000\n",
       "LREN3    Lojas Renner      35                 25    1200"
      ]
     },
     "execution_count": 26,
     "metadata": {},
     "output_type": "execute_result"
    }
   ],
   "source": [
    "# Minha resposta para o exercício 22\n",
    "df_info_empresas.columns = ['nomes', 'precos', 'preco_sobre_lucro', 'volume']\n",
    "df_info_empresas"
   ]
  },
  {
   "cell_type": "code",
   "execution_count": 27,
   "id": "f090029d",
   "metadata": {},
   "outputs": [
    {
     "data": {
      "text/plain": [
       "tickers\n",
       "WEGE3    20\n",
       "PETR3    30\n",
       "VALE3    40\n",
       "PETR4    12\n",
       "LREN3    35\n",
       "Name: precos, dtype: int64"
      ]
     },
     "execution_count": 27,
     "metadata": {},
     "output_type": "execute_result"
    }
   ],
   "source": [
    "# Minha resposta para o exercício 23\n",
    "precos = df_info_empresas['precos']\n",
    "precos"
   ]
  },
  {
   "cell_type": "code",
   "execution_count": 30,
   "id": "1f57acd8",
   "metadata": {},
   "outputs": [
    {
     "data": {
      "text/html": [
       "<div>\n",
       "<style scoped>\n",
       "    .dataframe tbody tr th:only-of-type {\n",
       "        vertical-align: middle;\n",
       "    }\n",
       "\n",
       "    .dataframe tbody tr th {\n",
       "        vertical-align: top;\n",
       "    }\n",
       "\n",
       "    .dataframe thead th {\n",
       "        text-align: right;\n",
       "    }\n",
       "</style>\n",
       "<table border=\"1\" class=\"dataframe\">\n",
       "  <thead>\n",
       "    <tr style=\"text-align: right;\">\n",
       "      <th></th>\n",
       "      <th>preco_sobre_lucro</th>\n",
       "      <th>volume</th>\n",
       "    </tr>\n",
       "    <tr>\n",
       "      <th>tickers</th>\n",
       "      <th></th>\n",
       "      <th></th>\n",
       "    </tr>\n",
       "  </thead>\n",
       "  <tbody>\n",
       "    <tr>\n",
       "      <th>WEGE3</th>\n",
       "      <td>25</td>\n",
       "      <td>5000</td>\n",
       "    </tr>\n",
       "    <tr>\n",
       "      <th>PETR3</th>\n",
       "      <td>6</td>\n",
       "      <td>1000</td>\n",
       "    </tr>\n",
       "    <tr>\n",
       "      <th>VALE3</th>\n",
       "      <td>12</td>\n",
       "      <td>4000</td>\n",
       "    </tr>\n",
       "    <tr>\n",
       "      <th>PETR4</th>\n",
       "      <td>7</td>\n",
       "      <td>7000</td>\n",
       "    </tr>\n",
       "    <tr>\n",
       "      <th>LREN3</th>\n",
       "      <td>25</td>\n",
       "      <td>1200</td>\n",
       "    </tr>\n",
       "  </tbody>\n",
       "</table>\n",
       "</div>"
      ],
      "text/plain": [
       "         preco_sobre_lucro  volume\n",
       "tickers                           \n",
       "WEGE3                   25    5000\n",
       "PETR3                    6    1000\n",
       "VALE3                   12    4000\n",
       "PETR4                    7    7000\n",
       "LREN3                   25    1200"
      ]
     },
     "execution_count": 30,
     "metadata": {},
     "output_type": "execute_result"
    }
   ],
   "source": [
    "# Minha resposta para o exercício 24\n",
    "colunas = df_info_empresas[['preco_sobre_lucro', 'volume']]\n",
    "colunas"
   ]
  },
  {
   "cell_type": "code",
   "execution_count": 47,
   "id": "088c16bf",
   "metadata": {},
   "outputs": [
    {
     "name": "stdout",
     "output_type": "stream",
     "text": [
      "nomes                 Weg\n",
      "precos                 20\n",
      "preco_sobre_lucro      25\n",
      "volume               5000\n",
      "Name: WEGE3, dtype: object\n",
      "tickers\n",
      "WEGE3             Weg\n",
      "PETR3       Petrobras\n",
      "VALE3            Vale\n",
      "PETR4       Petrobras\n",
      "LREN3    Lojas Renner\n",
      "Name: nomes, dtype: object\n"
     ]
    }
   ],
   "source": [
    "# Minha resposta para o exercício 25\n",
    "linha = df_info_empresas.loc['WEGE3']\n",
    "print(linha)\n",
    "\n",
    "coluna = df_info_empresas.loc[:, 'nomes']\n",
    "print(coluna)"
   ]
  },
  {
   "cell_type": "code",
   "execution_count": 44,
   "id": "23c0df0b",
   "metadata": {},
   "outputs": [
    {
     "name": "stdout",
     "output_type": "stream",
     "text": [
      "20\n",
      "20\n"
     ]
    }
   ],
   "source": [
    "# Minha resposta para o exercício 26\n",
    "preco_weg_iat = df_info_empresas.iat[0, 1]\n",
    "print(preco_weg_iat)\n",
    "\n",
    "preco_weg_at = df_info_empresas.at['WEGE3', 'precos']\n",
    "print(preco_weg_at)"
   ]
  },
  {
   "cell_type": "code",
   "execution_count": 48,
   "id": "3b90beab",
   "metadata": {},
   "outputs": [
    {
     "name": "stdout",
     "output_type": "stream",
     "text": [
      "             nomes  precos  preco_sobre_lucro  volume\n",
      "tickers                                              \n",
      "WEGE3          Weg      20                 25    5000\n",
      "PETR3    Petrobras      30                  6    1000\n"
     ]
    }
   ],
   "source": [
    "# Minha resposta para o exercício 27\n",
    "duas_colunas = df_info_empresas.iloc[0:2, :]\n",
    "print(duas_colunas)"
   ]
  },
  {
   "cell_type": "code",
   "execution_count": null,
   "id": "c1db8059",
   "metadata": {},
   "outputs": [],
   "source": []
  },
  {
   "cell_type": "code",
   "execution_count": null,
   "id": "19e3bbba",
   "metadata": {},
   "outputs": [],
   "source": []
  },
  {
   "cell_type": "code",
   "execution_count": null,
   "id": "cca35e38",
   "metadata": {},
   "outputs": [],
   "source": []
  },
  {
   "cell_type": "code",
   "execution_count": null,
   "id": "c501d939",
   "metadata": {},
   "outputs": [],
   "source": []
  },
  {
   "cell_type": "code",
   "execution_count": null,
   "id": "b53f9c2e",
   "metadata": {},
   "outputs": [],
   "source": []
  },
  {
   "cell_type": "code",
   "execution_count": null,
   "id": "f47af5a5",
   "metadata": {},
   "outputs": [],
   "source": []
  },
  {
   "cell_type": "code",
   "execution_count": null,
   "id": "9d238a08",
   "metadata": {},
   "outputs": [],
   "source": []
  },
  {
   "cell_type": "code",
   "execution_count": null,
   "id": "f1946c8a",
   "metadata": {},
   "outputs": [],
   "source": []
  },
  {
   "cell_type": "code",
   "execution_count": null,
   "id": "01d19a3b",
   "metadata": {},
   "outputs": [],
   "source": []
  },
  {
   "cell_type": "code",
   "execution_count": null,
   "id": "70fe24bb",
   "metadata": {},
   "outputs": [],
   "source": []
  },
  {
   "cell_type": "code",
   "execution_count": null,
   "id": "861bce3c",
   "metadata": {},
   "outputs": [],
   "source": [
    "dicionario = {\n",
    "       \"nomes\": [\"Weg\", \"Petrobras\", \"Vale\", \"Petrobras\", \"Lojas Renner\"],\n",
    "       \"tickers\": [\"WEGE3\", \"PETR3\", \"VALE3\", \"PETR4\", \"LREN3\"],  \n",
    "       \"cotacoes\": [20, 30, 40, 12, 35],\n",
    "       \"preco_sobre_lucro\": [25, 6, 12, 7, 25],  \n",
    "       \"volume\": [5000, 1000, 4000, 7000, 1200]\n",
    "}\n",
    "\n",
    "df_info_empresas = pd.DataFrame(dicionario)\n",
    "\n",
    "df_info_empresas = df_info_empresas.set_index(\"tickers\")"
   ]
  },
  {
   "cell_type": "code",
   "execution_count": null,
   "id": "b7dfb447",
   "metadata": {},
   "outputs": [],
   "source": [
    "df_info_empresas.columns = ['nomes', 'precos', 'preco_sobre_lucro', 'volume']\n",
    "\n",
    "df_info_empresas"
   ]
  },
  {
   "cell_type": "code",
   "execution_count": null,
   "id": "fa245e39",
   "metadata": {},
   "outputs": [],
   "source": [
    "precinho = df_info_empresas['precos']\n",
    "precinho"
   ]
  },
  {
   "cell_type": "code",
   "execution_count": null,
   "id": "9f9f8a21",
   "metadata": {},
   "outputs": [],
   "source": [
    "pl_e_volume = df_info_empresas[['preco_sobre_lucro', 'volume']]\n",
    "pl_e_volume"
   ]
  },
  {
   "cell_type": "code",
   "execution_count": null,
   "id": "e3ba3ca9",
   "metadata": {},
   "outputs": [],
   "source": [
    "primeira_linha = df_info_empresas.loc[\"WEGE3\"]\n",
    "primeira_coluna = df_info_empresas.loc[:, \"nomes\"]\n",
    "\n",
    "primeira_coluna"
   ]
  },
  {
   "cell_type": "code",
   "execution_count": null,
   "id": "80835969",
   "metadata": {},
   "outputs": [],
   "source": [
    "preco_weg_at = df_info_empresas.at[\"WEGE3\", \"precos\"]\n",
    "preco_weg_iat = df_info_empresas.iat[0, 1] \n",
    "\n",
    "preco_weg_at"
   ]
  },
  {
   "cell_type": "code",
   "execution_count": null,
   "id": "d4ed6b18",
   "metadata": {},
   "outputs": [],
   "source": [
    "duas_primeiras_linhas = df_info_empresas.iloc[0:2, :]\n",
    "duas_primeiras_linhas"
   ]
  }
 ],
 "metadata": {
  "kernelspec": {
   "display_name": "Python 3 (ipykernel)",
   "language": "python",
   "name": "python3"
  },
  "language_info": {
   "codemirror_mode": {
    "name": "ipython",
    "version": 3
   },
   "file_extension": ".py",
   "mimetype": "text/x-python",
   "name": "python",
   "nbconvert_exporter": "python",
   "pygments_lexer": "ipython3",
   "version": "3.9.13"
  }
 },
 "nbformat": 4,
 "nbformat_minor": 5
}
