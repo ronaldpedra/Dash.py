{
 "cells": [
  {
   "cell_type": "markdown",
   "id": "4a873a3f",
   "metadata": {},
   "source": [
    "# Mundo 8 - Laços de repetição\n",
    "\n",
    "* For e While"
   ]
  },
  {
   "cell_type": "code",
   "execution_count": 1,
   "id": "f387285a",
   "metadata": {},
   "outputs": [],
   "source": [
    "import time\n",
    "import pandas as pd"
   ]
  },
  {
   "cell_type": "code",
   "execution_count": 2,
   "id": "6a198d66",
   "metadata": {},
   "outputs": [],
   "source": [
    "#loop simples em uma lista\n",
    "\n",
    "lista_empresas = ['Weg', 'Vale', 'Petrobras']"
   ]
  },
  {
   "cell_type": "code",
   "execution_count": 3,
   "id": "d67d60e4",
   "metadata": {},
   "outputs": [
    {
     "name": "stdout",
     "output_type": "stream",
     "text": [
      "WEG\n",
      "VALE\n",
      "PETROBRAS\n"
     ]
    }
   ],
   "source": [
    "# a cada elemento, faça X\n",
    "\n",
    "for empresa in lista_empresas:\n",
    "\n",
    "    print(empresa.upper())"
   ]
  },
  {
   "cell_type": "code",
   "execution_count": null,
   "id": "cf052c3c",
   "metadata": {},
   "outputs": [],
   "source": [
    "#loop em um range. \n",
    "\n",
    "for i in range(0, len(lista_empresas)):\n",
    "    \n",
    "    print(i)\n",
    "\n",
    "    print(lista_empresas[i])"
   ]
  },
  {
   "cell_type": "code",
   "execution_count": 4,
   "id": "b216c742",
   "metadata": {},
   "outputs": [
    {
     "data": {
      "text/html": [
       "<div>\n",
       "<style scoped>\n",
       "    .dataframe tbody tr th:only-of-type {\n",
       "        vertical-align: middle;\n",
       "    }\n",
       "\n",
       "    .dataframe tbody tr th {\n",
       "        vertical-align: top;\n",
       "    }\n",
       "\n",
       "    .dataframe thead th {\n",
       "        text-align: right;\n",
       "    }\n",
       "</style>\n",
       "<table border=\"1\" class=\"dataframe\">\n",
       "  <thead>\n",
       "    <tr style=\"text-align: right;\">\n",
       "      <th></th>\n",
       "      <th>Nome empresa</th>\n",
       "      <th>Cotação</th>\n",
       "    </tr>\n",
       "  </thead>\n",
       "  <tbody>\n",
       "    <tr>\n",
       "      <th>0</th>\n",
       "      <td>Weg</td>\n",
       "      <td>20</td>\n",
       "    </tr>\n",
       "    <tr>\n",
       "      <th>0</th>\n",
       "      <td>Vale</td>\n",
       "      <td>30</td>\n",
       "    </tr>\n",
       "    <tr>\n",
       "      <th>0</th>\n",
       "      <td>Petrobras</td>\n",
       "      <td>45</td>\n",
       "    </tr>\n",
       "  </tbody>\n",
       "</table>\n",
       "</div>"
      ],
      "text/plain": [
       "  Nome empresa  Cotação\n",
       "0          Weg       20\n",
       "0         Vale       30\n",
       "0    Petrobras       45"
      ]
     },
     "execution_count": 4,
     "metadata": {},
     "output_type": "execute_result"
    }
   ],
   "source": [
    "#por que usar um range?\n",
    "\n",
    "lista_cotacoes = [20, 30, 45]\n",
    "lista_empresas = ['Weg', 'Vale', 'Petrobras']\n",
    "\n",
    "lista_dicionarios = []\n",
    "\n",
    "for i in range(0, 3):\n",
    "\n",
    "    lista_dicionarios.append(pd.DataFrame(\n",
    "        {'Nome empresa': lista_empresas[i], 'Cotação': lista_cotacoes[i]}, index=[0]))\n",
    "\n",
    "    \n",
    "tabela = pd.concat(lista_dicionarios)\n",
    "\n",
    "tabela"
   ]
  },
  {
   "cell_type": "code",
   "execution_count": 5,
   "id": "1572d66f",
   "metadata": {},
   "outputs": [
    {
     "name": "stdout",
     "output_type": "stream",
     "text": [
      "0 20\n",
      "1 30\n",
      "2 45\n"
     ]
    },
    {
     "data": {
      "text/html": [
       "<div>\n",
       "<style scoped>\n",
       "    .dataframe tbody tr th:only-of-type {\n",
       "        vertical-align: middle;\n",
       "    }\n",
       "\n",
       "    .dataframe tbody tr th {\n",
       "        vertical-align: top;\n",
       "    }\n",
       "\n",
       "    .dataframe thead th {\n",
       "        text-align: right;\n",
       "    }\n",
       "</style>\n",
       "<table border=\"1\" class=\"dataframe\">\n",
       "  <thead>\n",
       "    <tr style=\"text-align: right;\">\n",
       "      <th></th>\n",
       "      <th>Nome empresa</th>\n",
       "      <th>Cotação</th>\n",
       "    </tr>\n",
       "  </thead>\n",
       "  <tbody>\n",
       "    <tr>\n",
       "      <th>0</th>\n",
       "      <td>Weg</td>\n",
       "      <td>20</td>\n",
       "    </tr>\n",
       "    <tr>\n",
       "      <th>0</th>\n",
       "      <td>Vale</td>\n",
       "      <td>30</td>\n",
       "    </tr>\n",
       "    <tr>\n",
       "      <th>0</th>\n",
       "      <td>Petrobras</td>\n",
       "      <td>45</td>\n",
       "    </tr>\n",
       "  </tbody>\n",
       "</table>\n",
       "</div>"
      ],
      "text/plain": [
       "  Nome empresa  Cotação\n",
       "0          Weg       20\n",
       "0         Vale       30\n",
       "0    Petrobras       45"
      ]
     },
     "execution_count": 5,
     "metadata": {},
     "output_type": "execute_result"
    }
   ],
   "source": [
    "#enumerate usa os dois mundos\n",
    "\n",
    "lista_dicionarios = []\n",
    "\n",
    "lista_cotacoes = [20, 30, 45]\n",
    "lista_empresas = ['Weg', 'Vale', 'Petrobras']\n",
    "\n",
    "for indice, cotacao in enumerate(lista_cotacoes): \n",
    "\n",
    "    print(indice, cotacao)\n",
    "\n",
    "    lista_dicionarios.append(pd.DataFrame(\n",
    "        {'Nome empresa': lista_empresas[indice], 'Cotação': cotacao}, index=[0]))\n",
    "\n",
    "\n",
    "tabela = pd.concat(lista_dicionarios)\n",
    "\n",
    "tabela"
   ]
  },
  {
   "cell_type": "code",
   "execution_count": null,
   "id": "847ddecb",
   "metadata": {},
   "outputs": [],
   "source": [
    "while True:\n",
    "    \n",
    "    print(f'Vai rodar pra sempre')\n",
    "\n",
    "    time.sleep(5)"
   ]
  },
  {
   "cell_type": "code",
   "execution_count": 6,
   "id": "12a42930",
   "metadata": {
    "scrolled": true
   },
   "outputs": [
    {
     "name": "stdout",
     "output_type": "stream",
     "text": [
      "20\n",
      "30\n"
     ]
    }
   ],
   "source": [
    "#usando while sem ser infinito\n",
    "\n",
    "contador = 0\n",
    "\n",
    "lista_cotacoes = [20, 30, 45]\n",
    "\n",
    "while lista_cotacoes[contador] < 35:\n",
    "\n",
    "    print(lista_cotacoes[contador])\n",
    "\n",
    "    contador = contador + 1"
   ]
  },
  {
   "cell_type": "markdown",
   "id": "cecaed16",
   "metadata": {},
   "source": [
    "# Desafios\n",
    "\n",
    "* Exercício 12: Faça um programa que leia o preço de 5 empresas. No final, mostre na tela qual foi a maior e a menor cotação lida.\n",
    "\n",
    "\n",
    "* Exercício 13: Crie uma ferramenta que deixe o usuário montar uma carteira de investimento que recebe 3 informações: nome da empresa, P/L (inteiro) e ROE. A ferramenta deixará o usuário adicionar quantas empresas ele quiser. Depois que o cadastro de empresas terminar, o programa irá exibir as seguinte estatísticas da carteira montada:\n",
    "    - Numero de ativos na carteira\n",
    "    - Média de P/L\n",
    "    - Média do ROE\n",
    "    - Qual a empresa mais barata da carteira (menor P/L)\n",
    "    - Se o usuário tiver menos de 3 ativos, avisar que a carteira está muito concentrada em poucos ativos "
   ]
  },
  {
   "cell_type": "code",
   "execution_count": null,
   "id": "918d1a79",
   "metadata": {},
   "outputs": [],
   "source": [
    "maior = 0\n",
    "menor = 0\n",
    "\n",
    "for i in range(0, 5):\n",
    "\n",
    "    cotacao = float(input('Digite uma cotação:'))\n",
    "\n",
    "    if i == 0:\n",
    "\n",
    "        menor = cotacao\n",
    "        maior = cotacao\n",
    "\n",
    "    else:\n",
    "\n",
    "        if cotacao > maior:\n",
    "\n",
    "            maior = cotacao\n",
    "\n",
    "        if cotacao < menor:\n",
    "            \n",
    "            menor = cotacao\n",
    "\n",
    "print(f\"A maior cotação digitada foi R${maior} e a menor foi R${menor}\")"
   ]
  },
  {
   "cell_type": "code",
   "execution_count": null,
   "id": "4f389fce",
   "metadata": {},
   "outputs": [],
   "source": [
    "print('''Seja bem vindo ao analisador de carteira de investimentos. \n",
    "      Nós iremos analisar a carteira que for passada para nós.''')\n",
    "\n",
    "print('''Vamos pedir algumas informações para você: nome da empresa, P/L e ROE. \n",
    "      Não esqueça de digitar o ROE no formato decimal!''')\n",
    "\n",
    "continuar = True\n",
    "\n",
    "lista_empresas = []\n",
    "lista_pl = []\n",
    "lista_roe = []\n",
    "\n",
    "menor_valor_pl = 100000000000\n",
    "\n",
    "while continuar:\n",
    "\n",
    "    nome_empresa = str(input(\"Digite o nome da empresa: \")).title()\n",
    "    pl = int(input(\"Digite o P/L da empresa: \"))\n",
    "    roe = float(input(\"Digite o ROE da empresa: \"))\n",
    "\n",
    "    lista_empresas.append(nome_empresa)\n",
    "    lista_pl.append(pl)\n",
    "    lista_roe.append(roe)\n",
    "\n",
    "    if pl < menor_valor_pl:\n",
    "\n",
    "        empresa_com_menor_pl = nome_empresa\n",
    "        menor_valor_pl = pl\n",
    "\n",
    "    deseja_continuar = str(input(\"Deseja cadastrar mais empresas? [S/N]\")).lower()\n",
    "\n",
    "    if deseja_continuar != \"n\" and deseja_continuar != \"s\":\n",
    "\n",
    "        invalido = True\n",
    "\n",
    "        while invalido:\n",
    "\n",
    "            deseja_continuar = str(input(\"Por favor, digite um comando válido: [S/N]\")).lower()\n",
    "\n",
    "            if deseja_continuar == \"n\" or deseja_continuar == \"s\":\n",
    "\n",
    "                break\n",
    "\n",
    "    if deseja_continuar == \"n\":\n",
    "\n",
    "        break\n",
    "\n",
    "\n",
    "ativos_na_carteira = len(lista_empresas)\n",
    "roe_medio = sum(lista_roe)/len(lista_roe)\n",
    "pl_medio = sum(lista_pl)/len(lista_pl)\n",
    "\n",
    "roe_medio = \"{:.0%}\".format(roe_medio)\n",
    "\n",
    "print(\"Aqui está as estatísticas da sua carteira:\")\n",
    "print(f\"Número de ativos: {ativos_na_carteira}\")\n",
    "print(f\"Roe médio: {roe_medio}\")\n",
    "print(f\"A empresa com o menor P/L da carteira é a {empresa_com_menor_pl}\")\n",
    "\n",
    "if ativos_na_carteira < 3:\n",
    "\n",
    "    print(f'''Tome cuidado com a concentração em poucos ativos. \n",
    "          Você só possui {ativos_na_carteira} ativo(s) na carteira.''')"
   ]
  },
  {
   "cell_type": "code",
   "execution_count": null,
   "id": "28af1639",
   "metadata": {},
   "outputs": [],
   "source": []
  },
  {
   "cell_type": "code",
   "execution_count": null,
   "id": "d7ba7649",
   "metadata": {},
   "outputs": [],
   "source": []
  },
  {
   "cell_type": "code",
   "execution_count": null,
   "id": "40457841",
   "metadata": {},
   "outputs": [],
   "source": []
  },
  {
   "cell_type": "code",
   "execution_count": null,
   "id": "44997720",
   "metadata": {},
   "outputs": [],
   "source": []
  },
  {
   "cell_type": "code",
   "execution_count": null,
   "id": "27baa345",
   "metadata": {},
   "outputs": [],
   "source": []
  },
  {
   "cell_type": "code",
   "execution_count": null,
   "id": "4d0a6673",
   "metadata": {},
   "outputs": [],
   "source": []
  },
  {
   "cell_type": "code",
   "execution_count": null,
   "id": "ccd493b6",
   "metadata": {},
   "outputs": [],
   "source": []
  },
  {
   "cell_type": "code",
   "execution_count": null,
   "id": "d7103d56",
   "metadata": {},
   "outputs": [],
   "source": []
  },
  {
   "cell_type": "code",
   "execution_count": null,
   "id": "227538e8",
   "metadata": {},
   "outputs": [],
   "source": []
  }
 ],
 "metadata": {
  "kernelspec": {
   "display_name": "Python 3 (ipykernel)",
   "language": "python",
   "name": "python3"
  },
  "language_info": {
   "codemirror_mode": {
    "name": "ipython",
    "version": 3
   },
   "file_extension": ".py",
   "mimetype": "text/x-python",
   "name": "python",
   "nbconvert_exporter": "python",
   "pygments_lexer": "ipython3",
   "version": "3.9.13"
  }
 },
 "nbformat": 4,
 "nbformat_minor": 5
}
