{
 "cells": [
  {
   "cell_type": "markdown",
   "id": "e6ad95ec",
   "metadata": {},
   "source": [
    "# Mundo 11: Datetime"
   ]
  },
  {
   "cell_type": "code",
   "execution_count": 2,
   "id": "38b63436",
   "metadata": {},
   "outputs": [],
   "source": [
    "from datetime import timedelta\n",
    "from datetime import date\n",
    "from datetime import datetime\n",
    "from dateutil.relativedelta import relativedelta\n",
    "import pytz"
   ]
  },
  {
   "cell_type": "code",
   "execution_count": null,
   "id": "6ea3d186",
   "metadata": {},
   "outputs": [],
   "source": [
    "#A partir da função date\n",
    "\n",
    "data_sem_horas = date(2022, 8, 31) #ano, mes, dia \n",
    "print(type(data_sem_horas))"
   ]
  },
  {
   "cell_type": "code",
   "execution_count": null,
   "id": "fc713a69",
   "metadata": {},
   "outputs": [],
   "source": [
    "#a partir da função datetime\n",
    "\n",
    "data_completa = datetime(2022, 8, 31, 20, 30, 56) #ano, mes, dia, horas, minuto, segundo \n",
    "print(data_completa)  "
   ]
  },
  {
   "cell_type": "code",
   "execution_count": null,
   "id": "0c8e763e",
   "metadata": {},
   "outputs": [],
   "source": [
    "# a partir de uma string\n",
    "\n",
    "data_texto = \"18-04-1987\"\n",
    "\n",
    "data_python = datetime.strptime(data_texto, '%d/%m/%Y')\n",
    "\n",
    "print(data_python)"
   ]
  },
  {
   "cell_type": "code",
   "execution_count": null,
   "id": "bad83c6a",
   "metadata": {},
   "outputs": [],
   "source": [
    "#a partir de um datetime\n",
    "\n",
    "data_python = data_python.date()\n",
    "\n",
    "print(data_python)"
   ]
  },
  {
   "cell_type": "code",
   "execution_count": null,
   "id": "98004de8",
   "metadata": {},
   "outputs": [],
   "source": [
    "#extraindo informações de datas\n",
    "\n",
    "lista_datas = [date(2020, 3, 5), date(2021, 3, 28), date(2021, 4, 19)]\n",
    "\n",
    "for data in lista_datas:\n",
    "    \n",
    "    print(data.year)\n",
    "    print(data.month)\n",
    "    print(data.day)"
   ]
  },
  {
   "cell_type": "code",
   "execution_count": null,
   "id": "7d8030c1",
   "metadata": {},
   "outputs": [],
   "source": [
    "#pegando o horário de agora\n",
    "\n",
    "data_agora = datetime.now()\n",
    "\n",
    "print(data_agora)"
   ]
  },
  {
   "cell_type": "markdown",
   "id": "c6cae98e",
   "metadata": {},
   "source": [
    "## Timedeltas"
   ]
  },
  {
   "cell_type": "code",
   "execution_count": null,
   "id": "35517855",
   "metadata": {},
   "outputs": [],
   "source": [
    "timedelta_teste = timedelta(days = 1) #dia é a maior escala\n",
    "\n",
    "print(timedelta_teste)\n",
    "\n",
    "amanha = datetime.now() + timedelta_teste\n",
    "\n",
    "print(amanha)"
   ]
  },
  {
   "cell_type": "code",
   "execution_count": null,
   "id": "a5e4b21d",
   "metadata": {},
   "outputs": [],
   "source": [
    "#usando relativedelta \n",
    "\n",
    "final_desse_ano = date(2023, 12, 31)\n",
    "\n",
    "final_ano_que_vem =  final_desse_ano + relativedelta(years = 1)\n",
    "\n",
    "print(final_ano_que_vem)"
   ]
  },
  {
   "cell_type": "markdown",
   "id": "ca988cdd",
   "metadata": {},
   "source": [
    "## Formatações\n",
    "\n",
    "https://docs.python.org/3/library/datetime.html"
   ]
  },
  {
   "cell_type": "code",
   "execution_count": null,
   "id": "8b55bdc0",
   "metadata": {},
   "outputs": [],
   "source": [
    "#formatação de datas (gráficos, leituras, etc)\n",
    "\n",
    "data_texto = \"18/04/1987\"\n",
    "data_texto2 = \"18-04-87\"\n",
    "data_texto3 = \"jan-01\"\n",
    "\n",
    "data_python = datetime.strptime(data_texto, '%d/%m/%Y')\n",
    "data_python2 = datetime.strptime(data_texto2, '%d-%m-%y')\n",
    "data_python3 = datetime.strptime(data_texto3, '%b-%y')\n",
    "\n",
    "print(data_python)\n",
    "print(data_python2)\n",
    "print(data_python3)\n"
   ]
  },
  {
   "cell_type": "code",
   "execution_count": null,
   "id": "e3f0b318",
   "metadata": {},
   "outputs": [],
   "source": [
    "#fuso horarios\n",
    "\n",
    "for tz in pytz.all_timezones:\n",
    "    print(tz)"
   ]
  },
  {
   "cell_type": "code",
   "execution_count": null,
   "id": "22505e72",
   "metadata": {},
   "outputs": [],
   "source": [
    "tz_sp = pytz.timezone('America/Sao_Paulo')\n",
    "tz_ny = pytz.timezone('America/New_York')\n",
    "\n",
    "data_agora_sp = datetime.now(tz_sp)\n",
    "data_agora_ny = datetime.now(tz_ny)\n",
    "\n",
    "print(data_agora_sp)\n",
    "print(data_agora_ny)"
   ]
  },
  {
   "cell_type": "markdown",
   "id": "730d0f05",
   "metadata": {},
   "source": [
    "# Desafios\n",
    "\n",
    "* Exercício 17: : Crie uma data a partir do módulo datetime e exiba na tela as seguintes características:\n",
    "    - Dia da data\n",
    "    - Mês da data\n",
    "    - Ano da data\n",
    "    - Hora da data\n",
    "    - Minuto da data\n",
    "    - Segundo da data\n",
    "\n",
    "* Exercício 18: Peça para o usuário digitar uma data no formato brasileiro no terminal e devolva para ele:\n",
    "    - Qual a data ele digitou.\n",
    "    - O dia anterior da data digitada.\n",
    "    - A data daqui a 1 ano. "
   ]
  },
  {
   "cell_type": "code",
   "execution_count": 11,
   "id": "2a2f1ce3",
   "metadata": {},
   "outputs": [
    {
     "name": "stdout",
     "output_type": "stream",
     "text": [
      "2024-01-24 23:22:05.328682-03:00\n",
      "24\n",
      "1\n",
      "2024\n",
      "23\n",
      "22\n",
      "5\n"
     ]
    }
   ],
   "source": [
    "# Minha resposta para o exercício 17\n",
    "tz_sp = pytz.timezone('America/Sao_Paulo')\n",
    "data_agora = datetime.now(tz_sp)\n",
    "print(data_agora)\n",
    "print(data_agora.day)\n",
    "print(data_agora.month)\n",
    "print(data_agora.year)\n",
    "print(data_agora.hour)\n",
    "print(data_agora.minute)\n",
    "print(data_agora.second)"
   ]
  },
  {
   "cell_type": "code",
   "execution_count": 20,
   "id": "4d25b2f9",
   "metadata": {},
   "outputs": [
    {
     "name": "stdout",
     "output_type": "stream",
     "text": [
      "Digite uma data no formato brasileiro (dd/mm/aaaa)10/01/2024\n",
      "10/01/2024\n",
      "2024-01-09\n",
      "2025-01-10\n"
     ]
    }
   ],
   "source": [
    "# Minha resposta para o exercício 18\n",
    "data_usuario = str(input('Digite uma data no formato brasileiro (dd/mm/aaaa)'))\n",
    "\n",
    "delta_dia_anterior = timedelta(days = 1)\n",
    "delta_ano_seguinte = relativedelta(years = 1)\n",
    "\n",
    "data_usuario_python = datetime.strptime(data_usuario, '%d/%m/%Y').date()\n",
    "\n",
    "dia_anterior = data_usuario_python - delta_dia_anterior\n",
    "ano_seguinte = data_usuario_python + delta_ano_seguinte\n",
    "\n",
    "print(data_usuario)\n",
    "print(dia_anterior)\n",
    "print(ano_seguinte)"
   ]
  },
  {
   "cell_type": "code",
   "execution_count": null,
   "id": "92bdcd52",
   "metadata": {},
   "outputs": [],
   "source": []
  },
  {
   "cell_type": "code",
   "execution_count": null,
   "id": "8597caf6",
   "metadata": {},
   "outputs": [],
   "source": [
    "data = datetime(2022, 4, 18, 10, 3, 54)\n",
    "\n",
    "print(f'O ano da data digitada é: {data.year}')\n",
    "print(f'O mês da data digitada é: {data.month}')\n",
    "print(f'O dia da data digitada é: {data.day}')\n",
    "print(f'A hora da data digitada é: {data.hour}')\n",
    "print(f'O minuto da data digitada é: {data.minute}')\n",
    "print(f'O segundo da data digitada é: {data.second}')"
   ]
  },
  {
   "cell_type": "code",
   "execution_count": null,
   "id": "9f9e9082",
   "metadata": {},
   "outputs": [],
   "source": [
    "data_digitada = input(\"Digite uma data no formato dd/mm/yyyy: \")\n",
    "\n",
    "data_python = datetime.strptime(data_digitada, '%d/%m/%Y').date()\n",
    "\n",
    "dia_anterior = data_python - timedelta(days = 1)\n",
    "\n",
    "ano_seguinte = data_python + relativedelta(years = 1)\n",
    "\n",
    "print(f\"A data digitada foi {data_python}\")\n",
    "print(f\"O dia anterior da data digitada é {dia_anterior}\")\n",
    "print(f\"O ano seguinte da data digitada é {ano_seguinte}\")"
   ]
  },
  {
   "cell_type": "code",
   "execution_count": null,
   "id": "559bab84",
   "metadata": {},
   "outputs": [],
   "source": []
  },
  {
   "cell_type": "code",
   "execution_count": null,
   "id": "e710e268",
   "metadata": {},
   "outputs": [],
   "source": []
  }
 ],
 "metadata": {
  "kernelspec": {
   "display_name": "Python 3 (ipykernel)",
   "language": "python",
   "name": "python3"
  },
  "language_info": {
   "codemirror_mode": {
    "name": "ipython",
    "version": 3
   },
   "file_extension": ".py",
   "mimetype": "text/x-python",
   "name": "python",
   "nbconvert_exporter": "python",
   "pygments_lexer": "ipython3",
   "version": "3.9.13"
  }
 },
 "nbformat": 4,
 "nbformat_minor": 5
}
